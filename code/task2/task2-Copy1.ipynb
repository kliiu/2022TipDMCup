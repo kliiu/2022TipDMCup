{
 "cells": [
  {
   "cell_type": "code",
   "execution_count": 124,
   "id": "0746ca0e",
   "metadata": {},
   "outputs": [],
   "source": [
    "import pandas as pd\n",
    "import numpy as np\n",
    "import re \n",
    "import sys\n",
    "path=\"../dataset/2020-2021茂名（含自媒体）.xlsx\""
   ]
  },
  {
   "cell_type": "code",
   "execution_count": 125,
   "id": "f14cc61d",
   "metadata": {},
   "outputs": [],
   "source": [
    "#游记\n",
    "df_youji= pd.read_excel(path,sheet_name=2)\n",
    "newdf_youji=pd.read_excel(path,sheet_name=2)\n",
    "newdf_youji.drop({\"城市\",\"发布时间\",\"出行天数\",\"人物\",\"人均费用\"},axis=1,inplace=True)"
   ]
  },
  {
   "cell_type": "code",
   "execution_count": 126,
   "id": "9a1e4d13",
   "metadata": {},
   "outputs": [],
   "source": [
    "youji_len=[]\n",
    "for row in range(len(newdf_youji)):\n",
    "    youji_len.append(len(newdf_youji.iloc[row,3]))"
   ]
  },
  {
   "cell_type": "code",
   "execution_count": 127,
   "id": "a304a7f3",
   "metadata": {},
   "outputs": [],
   "source": [
    "newdf_youji['youji_len']=youji_len"
   ]
  },
  {
   "cell_type": "code",
   "execution_count": 128,
   "id": "98238d60",
   "metadata": {},
   "outputs": [
    {
     "data": {
      "text/html": [
       "<div>\n",
       "<style scoped>\n",
       "    .dataframe tbody tr th:only-of-type {\n",
       "        vertical-align: middle;\n",
       "    }\n",
       "\n",
       "    .dataframe tbody tr th {\n",
       "        vertical-align: top;\n",
       "    }\n",
       "\n",
       "    .dataframe thead th {\n",
       "        text-align: right;\n",
       "    }\n",
       "</style>\n",
       "<table border=\"1\" class=\"dataframe\">\n",
       "  <thead>\n",
       "    <tr style=\"text-align: right;\">\n",
       "      <th></th>\n",
       "      <th>游记ID</th>\n",
       "      <th>youji_len</th>\n",
       "    </tr>\n",
       "  </thead>\n",
       "  <tbody>\n",
       "    <tr>\n",
       "      <th>count</th>\n",
       "      <td>148.000000</td>\n",
       "      <td>148.000000</td>\n",
       "    </tr>\n",
       "    <tr>\n",
       "      <th>mean</th>\n",
       "      <td>1220.500000</td>\n",
       "      <td>1376.831081</td>\n",
       "    </tr>\n",
       "    <tr>\n",
       "      <th>std</th>\n",
       "      <td>42.868014</td>\n",
       "      <td>1448.008402</td>\n",
       "    </tr>\n",
       "    <tr>\n",
       "      <th>min</th>\n",
       "      <td>1147.000000</td>\n",
       "      <td>159.000000</td>\n",
       "    </tr>\n",
       "    <tr>\n",
       "      <th>25%</th>\n",
       "      <td>1183.750000</td>\n",
       "      <td>512.500000</td>\n",
       "    </tr>\n",
       "    <tr>\n",
       "      <th>50%</th>\n",
       "      <td>1220.500000</td>\n",
       "      <td>957.500000</td>\n",
       "    </tr>\n",
       "    <tr>\n",
       "      <th>75%</th>\n",
       "      <td>1257.250000</td>\n",
       "      <td>1571.000000</td>\n",
       "    </tr>\n",
       "    <tr>\n",
       "      <th>max</th>\n",
       "      <td>1294.000000</td>\n",
       "      <td>10336.000000</td>\n",
       "    </tr>\n",
       "  </tbody>\n",
       "</table>\n",
       "</div>"
      ],
      "text/plain": [
       "              游记ID     youji_len\n",
       "count   148.000000    148.000000\n",
       "mean   1220.500000   1376.831081\n",
       "std      42.868014   1448.008402\n",
       "min    1147.000000    159.000000\n",
       "25%    1183.750000    512.500000\n",
       "50%    1220.500000    957.500000\n",
       "75%    1257.250000   1571.000000\n",
       "max    1294.000000  10336.000000"
      ]
     },
     "execution_count": 128,
     "metadata": {},
     "output_type": "execute_result"
    }
   ],
   "source": [
    "newdf_youji.describe()"
   ]
  },
  {
   "cell_type": "code",
   "execution_count": 129,
   "id": "6e38673f",
   "metadata": {},
   "outputs": [],
   "source": [
    "dropped_youji=newdf_youji[newdf_youji['youji_len']>4000]"
   ]
  },
  {
   "cell_type": "code",
   "execution_count": 85,
   "id": "1a750526",
   "metadata": {},
   "outputs": [
    {
     "name": "stderr",
     "output_type": "stream",
     "text": [
      "C:\\Users\\k\\anaconda3\\envs\\pyto\\lib\\site-packages\\pandas\\core\\frame.py:4908: SettingWithCopyWarning: \n",
      "A value is trying to be set on a copy of a slice from a DataFrame\n",
      "\n",
      "See the caveats in the documentation: https://pandas.pydata.org/pandas-docs/stable/user_guide/indexing.html#returning-a-view-versus-a-copy\n",
      "  errors=errors,\n"
     ]
    }
   ],
   "source": [
    "dropped_youji.drop('youji_len',axis=1,inplace=True)"
   ]
  },
  {
   "cell_type": "code",
   "execution_count": 130,
   "id": "5d26d621",
   "metadata": {},
   "outputs": [
    {
     "data": {
      "text/html": [
       "<div>\n",
       "<style scoped>\n",
       "    .dataframe tbody tr th:only-of-type {\n",
       "        vertical-align: middle;\n",
       "    }\n",
       "\n",
       "    .dataframe tbody tr th {\n",
       "        vertical-align: top;\n",
       "    }\n",
       "\n",
       "    .dataframe thead th {\n",
       "        text-align: right;\n",
       "    }\n",
       "</style>\n",
       "<table border=\"1\" class=\"dataframe\">\n",
       "  <thead>\n",
       "    <tr style=\"text-align: right;\">\n",
       "      <th></th>\n",
       "      <th>游记ID</th>\n",
       "      <th>游记标题</th>\n",
       "      <th>出发时间</th>\n",
       "      <th>正文</th>\n",
       "      <th>youji_len</th>\n",
       "    </tr>\n",
       "  </thead>\n",
       "  <tbody>\n",
       "    <tr>\n",
       "      <th>12</th>\n",
       "      <td>1159</td>\n",
       "      <td>宝藏小城茂名的正确打开方法</td>\n",
       "      <td>2020-04-20</td>\n",
       "      <td>突如其来的新冠肺炎疫情让早已计划好的国外度假计划泡了汤。\\n\\n在家宅了几个月，疫情现在也基...</td>\n",
       "      <td>7244</td>\n",
       "    </tr>\n",
       "    <tr>\n",
       "      <th>35</th>\n",
       "      <td>1182</td>\n",
       "      <td>茂名沿海之行2020-06</td>\n",
       "      <td>2020-06-25</td>\n",
       "      <td>序\\n大概两三年没出去长途骑行了（其实去年有计划一次，出门丢行李在家躺三天），端午三天小长假...</td>\n",
       "      <td>5525</td>\n",
       "    </tr>\n",
       "    <tr>\n",
       "      <th>43</th>\n",
       "      <td>1190</td>\n",
       "      <td>2019年7月，鱼胶学习之旅：深圳-台山-阳江-茂名-湛江-北海-广州</td>\n",
       "      <td>2019-07-18</td>\n",
       "      <td>喜欢现在的状态：总是能很单纯的去做自事情。\\n\\n既然跟鱼胶有关的游记，就先端上来几张鱼㬵图...</td>\n",
       "      <td>7201</td>\n",
       "    </tr>\n",
       "    <tr>\n",
       "      <th>50</th>\n",
       "      <td>1197</td>\n",
       "      <td>在盛夏的蔚蓝里，且听风吟——记一场与浪漫有关的亲子旅行</td>\n",
       "      <td>2020-07-26</td>\n",
       "      <td>大手牵小手，盛夏再出发\\nTA不怕黑，是因为你曾在漆黑的夜里带TA看过最亮的星。\\n\\nTA...</td>\n",
       "      <td>10336</td>\n",
       "    </tr>\n",
       "    <tr>\n",
       "      <th>70</th>\n",
       "      <td>1217</td>\n",
       "      <td>穿行水东湾海洋公园，看到的不只是红树林</td>\n",
       "      <td>2020-11-28</td>\n",
       "      <td>水东湾海洋公园位于 广东 省 茂名 市 电白 区水东湾南岸， 南海 半岛北侧。是 南海 旅游...</td>\n",
       "      <td>4083</td>\n",
       "    </tr>\n",
       "    <tr>\n",
       "      <th>145</th>\n",
       "      <td>1292</td>\n",
       "      <td>高州行一D1佛山至高州：潘洲公园、观山、高州博物馆、宝光塔 、缅茄树、鉴江、瀛洲公园、高凉鼓韵。</td>\n",
       "      <td>2021-11-25</td>\n",
       "      <td>2021年11月25日起了一个大早，6:30就在家门口等候网约顺风车。\\n晨曦初露，云彩丰富...</td>\n",
       "      <td>5340</td>\n",
       "    </tr>\n",
       "    <tr>\n",
       "      <th>146</th>\n",
       "      <td>1293</td>\n",
       "      <td>我们去茂名走马观花（广东⑮）</td>\n",
       "      <td>2021-04-12</td>\n",
       "      <td>走马：路上\\n爷爷是一个很重男轻女的传统 广东 人，但在看到自己曾孙还没有的情况下，就开始叨...</td>\n",
       "      <td>4516</td>\n",
       "    </tr>\n",
       "  </tbody>\n",
       "</table>\n",
       "</div>"
      ],
      "text/plain": [
       "     游记ID                                              游记标题        出发时间  \\\n",
       "12   1159                                     宝藏小城茂名的正确打开方法  2020-04-20   \n",
       "35   1182                                     茂名沿海之行2020-06  2020-06-25   \n",
       "43   1190               2019年7月，鱼胶学习之旅：深圳-台山-阳江-茂名-湛江-北海-广州  2019-07-18   \n",
       "50   1197                       在盛夏的蔚蓝里，且听风吟——记一场与浪漫有关的亲子旅行  2020-07-26   \n",
       "70   1217                               穿行水东湾海洋公园，看到的不只是红树林  2020-11-28   \n",
       "145  1292  高州行一D1佛山至高州：潘洲公园、观山、高州博物馆、宝光塔 、缅茄树、鉴江、瀛洲公园、高凉鼓韵。  2021-11-25   \n",
       "146  1293                                    我们去茂名走马观花（广东⑮）  2021-04-12   \n",
       "\n",
       "                                                    正文  youji_len  \n",
       "12   突如其来的新冠肺炎疫情让早已计划好的国外度假计划泡了汤。\\n\\n在家宅了几个月，疫情现在也基...       7244  \n",
       "35   序\\n大概两三年没出去长途骑行了（其实去年有计划一次，出门丢行李在家躺三天），端午三天小长假...       5525  \n",
       "43   喜欢现在的状态：总是能很单纯的去做自事情。\\n\\n既然跟鱼胶有关的游记，就先端上来几张鱼㬵图...       7201  \n",
       "50   大手牵小手，盛夏再出发\\nTA不怕黑，是因为你曾在漆黑的夜里带TA看过最亮的星。\\n\\nTA...      10336  \n",
       "70   水东湾海洋公园位于 广东 省 茂名 市 电白 区水东湾南岸， 南海 半岛北侧。是 南海 旅游...       4083  \n",
       "145  2021年11月25日起了一个大早，6:30就在家门口等候网约顺风车。\\n晨曦初露，云彩丰富...       5340  \n",
       "146  走马：路上\\n爷爷是一个很重男轻女的传统 广东 人，但在看到自己曾孙还没有的情况下，就开始叨...       4516  "
      ]
     },
     "execution_count": 130,
     "metadata": {},
     "output_type": "execute_result"
    }
   ],
   "source": [
    "dropped_youji"
   ]
  },
  {
   "cell_type": "code",
   "execution_count": 141,
   "id": "72cbdcd2",
   "metadata": {},
   "outputs": [],
   "source": [
    "long_df=pd.DataFrame(data=None,columns=dropped_youji.columns)"
   ]
  },
  {
   "cell_type": "code",
   "execution_count": 142,
   "id": "2c2f6991",
   "metadata": {},
   "outputs": [
    {
     "data": {
      "text/html": [
       "<div>\n",
       "<style scoped>\n",
       "    .dataframe tbody tr th:only-of-type {\n",
       "        vertical-align: middle;\n",
       "    }\n",
       "\n",
       "    .dataframe tbody tr th {\n",
       "        vertical-align: top;\n",
       "    }\n",
       "\n",
       "    .dataframe thead th {\n",
       "        text-align: right;\n",
       "    }\n",
       "</style>\n",
       "<table border=\"1\" class=\"dataframe\">\n",
       "  <thead>\n",
       "    <tr style=\"text-align: right;\">\n",
       "      <th></th>\n",
       "      <th>游记ID</th>\n",
       "      <th>游记标题</th>\n",
       "      <th>出发时间</th>\n",
       "      <th>正文</th>\n",
       "      <th>youji_len</th>\n",
       "    </tr>\n",
       "  </thead>\n",
       "  <tbody>\n",
       "  </tbody>\n",
       "</table>\n",
       "</div>"
      ],
      "text/plain": [
       "Empty DataFrame\n",
       "Columns: [游记ID, 游记标题, 出发时间, 正文, youji_len]\n",
       "Index: []"
      ]
     },
     "execution_count": 142,
     "metadata": {},
     "output_type": "execute_result"
    }
   ],
   "source": [
    "long_df"
   ]
  },
  {
   "cell_type": "code",
   "execution_count": 143,
   "id": "79933c76",
   "metadata": {},
   "outputs": [
    {
     "name": "stdout",
     "output_type": "stream",
     "text": [
      "7244\n",
      "5525\n",
      "7201\n",
      "10336\n",
      "4083\n",
      "5340\n",
      "4516\n"
     ]
    }
   ],
   "source": [
    "for com_id in dropped_youji['游记ID']:\n",
    "        youji_len=len((dropped_youji[dropped_youji['游记ID']==com_id]).iloc[0,3])\n",
    "        print(youji_len)\n",
    "        first_half=((dropped_youji[dropped_youji['游记ID']==com_id]).iloc[0,3])[:int(youji_len/2)]\n",
    "        second_half=((dropped_youji[dropped_youji['游记ID']==com_id]).iloc[0,3])[int(youji_len/2):]\n",
    "        long_df=long_df.append({'游记ID':com_id,'游记标题':(dropped_youji[dropped_youji['游记ID']==com_id]).iloc[0,1],\n",
    "                                    '出发时间':(dropped_youji[dropped_youji['游记ID']==com_id]).iloc[0,2],'正文':first_half},ignore_index=True)\n",
    "        long_df=long_df.append({'游记ID':com_id,'游记标题':(dropped_youji[dropped_youji['游记ID']==com_id]).iloc[0,1],\n",
    "                                    '出发时间':(dropped_youji[dropped_youji['游记ID']==com_id]).iloc[0,2],'正文':second_half},ignore_index=True)"
   ]
  },
  {
   "cell_type": "code",
   "execution_count": 144,
   "id": "56e5f7e1",
   "metadata": {},
   "outputs": [
    {
     "data": {
      "text/html": [
       "<div>\n",
       "<style scoped>\n",
       "    .dataframe tbody tr th:only-of-type {\n",
       "        vertical-align: middle;\n",
       "    }\n",
       "\n",
       "    .dataframe tbody tr th {\n",
       "        vertical-align: top;\n",
       "    }\n",
       "\n",
       "    .dataframe thead th {\n",
       "        text-align: right;\n",
       "    }\n",
       "</style>\n",
       "<table border=\"1\" class=\"dataframe\">\n",
       "  <thead>\n",
       "    <tr style=\"text-align: right;\">\n",
       "      <th></th>\n",
       "      <th>游记ID</th>\n",
       "      <th>游记标题</th>\n",
       "      <th>出发时间</th>\n",
       "      <th>正文</th>\n",
       "      <th>youji_len</th>\n",
       "    </tr>\n",
       "  </thead>\n",
       "  <tbody>\n",
       "    <tr>\n",
       "      <th>0</th>\n",
       "      <td>1159</td>\n",
       "      <td>宝藏小城茂名的正确打开方法</td>\n",
       "      <td>2020-04-20</td>\n",
       "      <td>突如其来的新冠肺炎疫情让早已计划好的国外度假计划泡了汤。\\n\\n在家宅了几个月，疫情现在也基...</td>\n",
       "      <td>NaN</td>\n",
       "    </tr>\n",
       "    <tr>\n",
       "      <th>1</th>\n",
       "      <td>1159</td>\n",
       "      <td>宝藏小城茂名的正确打开方法</td>\n",
       "      <td>2020-04-20</td>\n",
       "      <td>座城市\\n浪漫海岸所在的 茂名 电白 区是个以海产丰富而闻名的地方，都说如果不吃海鲜，就等于...</td>\n",
       "      <td>NaN</td>\n",
       "    </tr>\n",
       "    <tr>\n",
       "      <th>2</th>\n",
       "      <td>1182</td>\n",
       "      <td>茂名沿海之行2020-06</td>\n",
       "      <td>2020-06-25</td>\n",
       "      <td>序\\n大概两三年没出去长途骑行了（其实去年有计划一次，出门丢行李在家躺三天），端午三天小长假...</td>\n",
       "      <td>NaN</td>\n",
       "    </tr>\n",
       "    <tr>\n",
       "      <th>3</th>\n",
       "      <td>1182</td>\n",
       "      <td>茂名沿海之行2020-06</td>\n",
       "      <td>2020-06-25</td>\n",
       "      <td>桥\\n\\n博贺湾大桥是 茂名 市的第二座跨海大桥（第一座是水东湾跨海大桥，在建 ），博贺湾大...</td>\n",
       "      <td>NaN</td>\n",
       "    </tr>\n",
       "    <tr>\n",
       "      <th>4</th>\n",
       "      <td>1190</td>\n",
       "      <td>2019年7月，鱼胶学习之旅：深圳-台山-阳江-茂名-湛江-北海-广州</td>\n",
       "      <td>2019-07-18</td>\n",
       "      <td>喜欢现在的状态：总是能很单纯的去做自事情。\\n\\n既然跟鱼胶有关的游记，就先端上来几张鱼㬵图...</td>\n",
       "      <td>NaN</td>\n",
       "    </tr>\n",
       "    <tr>\n",
       "      <th>5</th>\n",
       "      <td>1190</td>\n",
       "      <td>2019年7月，鱼胶学习之旅：深圳-台山-阳江-茂名-湛江-北海-广州</td>\n",
       "      <td>2019-07-18</td>\n",
       "      <td>，沉香虽好，非我所欲，故告辞而去，临走前买了些熏香，随手而为，没想到在 巴马 的酒店里却派上...</td>\n",
       "      <td>NaN</td>\n",
       "    </tr>\n",
       "    <tr>\n",
       "      <th>6</th>\n",
       "      <td>1197</td>\n",
       "      <td>在盛夏的蔚蓝里，且听风吟——记一场与浪漫有关的亲子旅行</td>\n",
       "      <td>2020-07-26</td>\n",
       "      <td>大手牵小手，盛夏再出发\\nTA不怕黑，是因为你曾在漆黑的夜里带TA看过最亮的星。\\n\\nTA...</td>\n",
       "      <td>NaN</td>\n",
       "    </tr>\n",
       "    <tr>\n",
       "      <th>7</th>\n",
       "      <td>1197</td>\n",
       "      <td>在盛夏的蔚蓝里，且听风吟——记一场与浪漫有关的亲子旅行</td>\n",
       "      <td>2020-07-26</td>\n",
       "      <td>片，你会发现，如果在海边的温德姆没有这方超大无边泳池，也会黯然失色。造型别致的无边泳池，可谓...</td>\n",
       "      <td>NaN</td>\n",
       "    </tr>\n",
       "    <tr>\n",
       "      <th>8</th>\n",
       "      <td>1217</td>\n",
       "      <td>穿行水东湾海洋公园，看到的不只是红树林</td>\n",
       "      <td>2020-11-28</td>\n",
       "      <td>水东湾海洋公园位于 广东 省 茂名 市 电白 区水东湾南岸， 南海 半岛北侧。是 南海 旅游...</td>\n",
       "      <td>NaN</td>\n",
       "    </tr>\n",
       "    <tr>\n",
       "      <th>9</th>\n",
       "      <td>1217</td>\n",
       "      <td>穿行水东湾海洋公园，看到的不只是红树林</td>\n",
       "      <td>2020-11-28</td>\n",
       "      <td>他们很高兴，向我回了个手势，其中有个女的还说“这位大叔不简单，一个人就敢步行！”如果她知道我...</td>\n",
       "      <td>NaN</td>\n",
       "    </tr>\n",
       "    <tr>\n",
       "      <th>10</th>\n",
       "      <td>1292</td>\n",
       "      <td>高州行一D1佛山至高州：潘洲公园、观山、高州博物馆、宝光塔 、缅茄树、鉴江、瀛洲公园、高凉鼓韵。</td>\n",
       "      <td>2021-11-25</td>\n",
       "      <td>2021年11月25日起了一个大早，6:30就在家门口等候网约顺风车。\\n晨曦初露，云彩丰富...</td>\n",
       "      <td>NaN</td>\n",
       "    </tr>\n",
       "    <tr>\n",
       "      <th>11</th>\n",
       "      <td>1292</td>\n",
       "      <td>高州行一D1佛山至高州：潘洲公园、观山、高州博物馆、宝光塔 、缅茄树、鉴江、瀛洲公园、高凉鼓韵。</td>\n",
       "      <td>2021-11-25</td>\n",
       "      <td>观山清景昼森森”的清幽、古朴的自然韵味，诱人于千里之外。四时八节，游人不绝。\\n革命历史博物...</td>\n",
       "      <td>NaN</td>\n",
       "    </tr>\n",
       "    <tr>\n",
       "      <th>12</th>\n",
       "      <td>1293</td>\n",
       "      <td>我们去茂名走马观花（广东⑮）</td>\n",
       "      <td>2021-04-12</td>\n",
       "      <td>走马：路上\\n爷爷是一个很重男轻女的传统 广东 人，但在看到自己曾孙还没有的情况下，就开始叨...</td>\n",
       "      <td>NaN</td>\n",
       "    </tr>\n",
       "    <tr>\n",
       "      <th>13</th>\n",
       "      <td>1293</td>\n",
       "      <td>我们去茂名走马观花（广东⑮）</td>\n",
       "      <td>2021-04-12</td>\n",
       "      <td>宾馆的价钱，经济酒店的配置，真的便靓正\\n叫高美酒店，新开没多久，老板娘很热情，虽然地方有点...</td>\n",
       "      <td>NaN</td>\n",
       "    </tr>\n",
       "  </tbody>\n",
       "</table>\n",
       "</div>"
      ],
      "text/plain": [
       "    游记ID                                              游记标题        出发时间  \\\n",
       "0   1159                                     宝藏小城茂名的正确打开方法  2020-04-20   \n",
       "1   1159                                     宝藏小城茂名的正确打开方法  2020-04-20   \n",
       "2   1182                                     茂名沿海之行2020-06  2020-06-25   \n",
       "3   1182                                     茂名沿海之行2020-06  2020-06-25   \n",
       "4   1190               2019年7月，鱼胶学习之旅：深圳-台山-阳江-茂名-湛江-北海-广州  2019-07-18   \n",
       "5   1190               2019年7月，鱼胶学习之旅：深圳-台山-阳江-茂名-湛江-北海-广州  2019-07-18   \n",
       "6   1197                       在盛夏的蔚蓝里，且听风吟——记一场与浪漫有关的亲子旅行  2020-07-26   \n",
       "7   1197                       在盛夏的蔚蓝里，且听风吟——记一场与浪漫有关的亲子旅行  2020-07-26   \n",
       "8   1217                               穿行水东湾海洋公园，看到的不只是红树林  2020-11-28   \n",
       "9   1217                               穿行水东湾海洋公园，看到的不只是红树林  2020-11-28   \n",
       "10  1292  高州行一D1佛山至高州：潘洲公园、观山、高州博物馆、宝光塔 、缅茄树、鉴江、瀛洲公园、高凉鼓韵。  2021-11-25   \n",
       "11  1292  高州行一D1佛山至高州：潘洲公园、观山、高州博物馆、宝光塔 、缅茄树、鉴江、瀛洲公园、高凉鼓韵。  2021-11-25   \n",
       "12  1293                                    我们去茂名走马观花（广东⑮）  2021-04-12   \n",
       "13  1293                                    我们去茂名走马观花（广东⑮）  2021-04-12   \n",
       "\n",
       "                                                   正文 youji_len  \n",
       "0   突如其来的新冠肺炎疫情让早已计划好的国外度假计划泡了汤。\\n\\n在家宅了几个月，疫情现在也基...       NaN  \n",
       "1   座城市\\n浪漫海岸所在的 茂名 电白 区是个以海产丰富而闻名的地方，都说如果不吃海鲜，就等于...       NaN  \n",
       "2   序\\n大概两三年没出去长途骑行了（其实去年有计划一次，出门丢行李在家躺三天），端午三天小长假...       NaN  \n",
       "3   桥\\n\\n博贺湾大桥是 茂名 市的第二座跨海大桥（第一座是水东湾跨海大桥，在建 ），博贺湾大...       NaN  \n",
       "4   喜欢现在的状态：总是能很单纯的去做自事情。\\n\\n既然跟鱼胶有关的游记，就先端上来几张鱼㬵图...       NaN  \n",
       "5   ，沉香虽好，非我所欲，故告辞而去，临走前买了些熏香，随手而为，没想到在 巴马 的酒店里却派上...       NaN  \n",
       "6   大手牵小手，盛夏再出发\\nTA不怕黑，是因为你曾在漆黑的夜里带TA看过最亮的星。\\n\\nTA...       NaN  \n",
       "7   片，你会发现，如果在海边的温德姆没有这方超大无边泳池，也会黯然失色。造型别致的无边泳池，可谓...       NaN  \n",
       "8   水东湾海洋公园位于 广东 省 茂名 市 电白 区水东湾南岸， 南海 半岛北侧。是 南海 旅游...       NaN  \n",
       "9   他们很高兴，向我回了个手势，其中有个女的还说“这位大叔不简单，一个人就敢步行！”如果她知道我...       NaN  \n",
       "10  2021年11月25日起了一个大早，6:30就在家门口等候网约顺风车。\\n晨曦初露，云彩丰富...       NaN  \n",
       "11  观山清景昼森森”的清幽、古朴的自然韵味，诱人于千里之外。四时八节，游人不绝。\\n革命历史博物...       NaN  \n",
       "12  走马：路上\\n爷爷是一个很重男轻女的传统 广东 人，但在看到自己曾孙还没有的情况下，就开始叨...       NaN  \n",
       "13  宾馆的价钱，经济酒店的配置，真的便靓正\\n叫高美酒店，新开没多久，老板娘很热情，虽然地方有点...       NaN  "
      ]
     },
     "execution_count": 144,
     "metadata": {},
     "output_type": "execute_result"
    }
   ],
   "source": [
    "long_df"
   ]
  },
  {
   "cell_type": "code",
   "execution_count": 71,
   "id": "26a6e8e1",
   "metadata": {},
   "outputs": [],
   "source": [
    "newdf_youji.drop((newdf_youji[newdf_youji['youji_len']>4000]).index,inplace=True)\n",
    "newdf_youji.drop('youji_len',axis=1,inplace=True)"
   ]
  },
  {
   "cell_type": "code",
   "execution_count": 25,
   "id": "da617ed2",
   "metadata": {
    "scrolled": true
   },
   "outputs": [
    {
     "data": {
      "image/png": "[encoded data removed]",
      "text/plain": [
       "<Figure size 432x288 with 1 Axes>"
      ]
     },
     "metadata": {},
     "output_type": "display_data"
    }
   ],
   "source": [
    "import seaborn as sns\n",
    "import matplotlib.pyplot as plt\n",
    "# 解决保存图像是负号'-'显示为方块的问题\n",
    "plt.rcParams['axes.unicode_minus'] = False  \n",
    "# style设置\n",
    "sns.set_style('whitegrid', {'font.sans-serif': ['simhei','FangSong']})\n",
    "ax = sns.boxplot(x=newdf_youji[\"youji_len\"])\n",
    "ax.set_title('游记字数分布')\n",
    "box_fig=ax.get_figure()\n",
    "fig_path='../fig/youjibox.png'\n",
    "box_fig.savefig(fig_path, dpi = 400)"
   ]
  },
  {
   "cell_type": "code",
   "execution_count": 48,
   "id": "02a184f3",
   "metadata": {},
   "outputs": [],
   "source": [
    "#对于除游记以外的名称要去除括号内的内容\n",
    "def rm_kuohao(s):\n",
    "    #str = u\"你（你）在[在]干{干}嘛【嘛】\"\n",
    "    result = re.sub(u\"\\\\（.*?）|\\\\{.*?}|\\\\[.*?]|\\\\【.*?】\", \"\", s.encode('utf-8').decode())#全角括号\n",
    "    result = re.sub(u\"\\\\(.*?\\\\)|\\\\{.*?}|\\\\[.*?]\", \"\", result)#半角括号\n",
    "    return result\n",
    "#繁体转换为简体\n",
    "from langconv import *\n",
    " \n",
    "# 繁体转简体\n",
    "def TraditionalToSimplified(content):\n",
    "    line = Converter(\"zh-hans\").convert(content)\n",
    "    return line"
   ]
  },
  {
   "cell_type": "code",
   "execution_count": 49,
   "id": "25332d6e",
   "metadata": {},
   "outputs": [
    {
     "name": "stderr",
     "output_type": "stream",
     "text": [
      "                                             \r"
     ]
    }
   ],
   "source": [
    "#分词\n",
    "import hanlp\n",
    "hanlp.pretrained.mtl.ALL # MTL多任务，具体任务见模型名称，语种见名称最后一个字段或相应语料库\n",
    "HanLP = hanlp.load(hanlp.pretrained.mtl.CLOSE_TOK_POS_NER_SRL_DEP_SDP_CON_ELECTRA_BASE_ZH)\n",
    "ner = HanLP['ner/msra']"
   ]
  },
  {
   "cell_type": "code",
   "execution_count": 50,
   "id": "d3b241a8",
   "metadata": {},
   "outputs": [],
   "source": [
    "##要去除的实体类型\n",
    "typelist=['LENGTH','INTEGER','MEASURE','TIME','DATE','DURATION','PERSON','ORDINAL','PERCENT']\n",
    "#建立中国行政区划词典\n",
    "China_region=[]\n",
    "with open('province.txt',encoding='utf-8')as file_obj:\n",
    "    with open('China.txt','w') as obj:\n",
    "        for line in file_obj.readlines():\n",
    "            line=re.sub('[a-zA-Z0-9’!\"#$%&\\'() （）*+,-./。，:;<=>?@，。?★、…【】《》？“”‘’！[\\\\]^_`{|}~\\s]+', \"\", line)\n",
    "            #print(line)\n",
    "            obj.write(line+'\\n')\n",
    "            China_region.append(line)\n",
    "        obj.close()\n",
    "    file_obj.close()\n",
    "#建立其他词典\n",
    "blacklist=['中国','中华人民共和国','潮汕','广东人']"
   ]
  },
  {
   "cell_type": "code",
   "execution_count": 234,
   "id": "532d46f3",
   "metadata": {},
   "outputs": [
    {
     "data": {
      "text/plain": [
       "False"
      ]
     },
     "execution_count": 234,
     "metadata": {},
     "output_type": "execute_result"
    }
   ],
   "source": [
    "a='东广'\n",
    "b='广东省'\n",
    "b in a#判断一个字符串是否包含另一个"
   ]
  },
  {
   "cell_type": "code",
   "execution_count": 51,
   "id": "d04dedbe",
   "metadata": {},
   "outputs": [],
   "source": [
    "#对每个字符串的处理封装成函数\n",
    "def regonize_entity(s):\n",
    "    ans=\"\"\n",
    "    temp=HanLP(s,tasks='ner/msra')#HanLP(i)进行分词，再进行实体提取\n",
    "    temp=temp['ner/msra']\n",
    "    for tup in temp:#对于提取到的每一个实体\n",
    "        if(tup[1] not in typelist):#若实体类型不等于要去除的实体类型\n",
    "            s=tup[0]#提取实体名字\n",
    "            #去除特殊符号\n",
    "            fliter = re.sub('[a-zA-Z0-9’!\"#$%&\\'() （）*+,-./。，:;<=>?@，。?★、…【】《》？“”‘’！[\\\\]^_`{|}~\\s]+', \"\", s)\n",
    "            if(len(fliter)>2):#若实体长度>2\n",
    "                flag=False#标记词语是否为行政区划词\n",
    "                if fliter in blacklist:\n",
    "                    break#若在黑名单中直接break\n",
    "                if fliter in China_region:\n",
    "                    break\n",
    "\n",
    "                fliter=fliter.strip('\\u202c')\n",
    "                if fliter not in ans:\n",
    "                    ans+=(fliter+\" \")#将词语加入提取的实体词典\n",
    "    if ans!='':\n",
    "        return ans\n",
    "    else:\n",
    "        return np.NaN"
   ]
  },
  {
   "cell_type": "code",
   "execution_count": 7,
   "id": "066ca581",
   "metadata": {},
   "outputs": [],
   "source": [
    "def cate_entity(tempdf,comment_type,comment_name):\n",
    "    tempdf=tempdf[[comment_type,comment_name]]\n",
    "    tempdf[\"entity\"]=np.NaN\n",
    "    #开始划分实体\n",
    "    for row in range(len(tempdf)):\n",
    "        #print(\"---------------\"+str(row)+\"--------------------\")\n",
    "        #tempdf.iloc[row,1]=TraditionalToSimplified(tempdf.iloc[row,1])\n",
    "        tempdf.iloc[row,2]=regonize_entity(tempdf.iloc[row,1])\n",
    "    tempdf=tempdf.dropna()\n",
    "    return tempdf"
   ]
  },
  {
   "cell_type": "code",
   "execution_count": 145,
   "id": "2eb57631",
   "metadata": {},
   "outputs": [],
   "source": [
    "#每次只需更改此处\n",
    "year=2021\n",
    "#newdf_hotel=newdf_hotel[(pd.to_datetime(newdf_hotel['入住日期'])).dt.year==year]\n",
    "#newdf_jingqu=newdf_jingqu[(pd.to_datetime(newdf_jingqu['评论日期'])).dt.year==year]\n",
    "newdf_youji=newdf_youji[(pd.to_datetime(newdf_youji['出发时间'])).dt.year==year]\n",
    "#newdf_eat=newdf_eat[(pd.to_datetime(newdf_eat['评论日期'])).dt.year==year]"
   ]
  },
  {
   "cell_type": "code",
   "execution_count": 146,
   "id": "e8afc3f5",
   "metadata": {},
   "outputs": [
    {
     "name": "stderr",
     "output_type": "stream",
     "text": [
      "C:\\Users\\k\\anaconda3\\envs\\pyto\\lib\\site-packages\\ipykernel_launcher.py:3: SettingWithCopyWarning: \n",
      "A value is trying to be set on a copy of a slice from a DataFrame.\n",
      "Try using .loc[row_indexer,col_indexer] = value instead\n",
      "\n",
      "See the caveats in the documentation: https://pandas.pydata.org/pandas-docs/stable/user_guide/indexing.html#returning-a-view-versus-a-copy\n",
      "  This is separate from the ipykernel package so we can avoid doing imports until\n",
      "C:\\Users\\k\\anaconda3\\envs\\pyto\\lib\\site-packages\\pandas\\core\\indexing.py:1817: SettingWithCopyWarning: \n",
      "A value is trying to be set on a copy of a slice from a DataFrame.\n",
      "Try using .loc[row_indexer,col_indexer] = value instead\n",
      "\n",
      "See the caveats in the documentation: https://pandas.pydata.org/pandas-docs/stable/user_guide/indexing.html#returning-a-view-versus-a-copy\n",
      "  self._setitem_single_column(loc, value, pi)\n"
     ]
    }
   ],
   "source": [
    "#对于long_df\n",
    "year=2021\n",
    "long_df=long_df[(pd.to_datetime(long_df['出发时间'])).dt.year==year]\n",
    "ans_youji=cate_entity(long_df,comment_type,comment_name)"
   ]
  },
  {
   "cell_type": "code",
   "execution_count": 147,
   "id": "3aee10ab",
   "metadata": {},
   "outputs": [
    {
     "data": {
      "text/html": [
       "<div>\n",
       "<style scoped>\n",
       "    .dataframe tbody tr th:only-of-type {\n",
       "        vertical-align: middle;\n",
       "    }\n",
       "\n",
       "    .dataframe tbody tr th {\n",
       "        vertical-align: top;\n",
       "    }\n",
       "\n",
       "    .dataframe thead th {\n",
       "        text-align: right;\n",
       "    }\n",
       "</style>\n",
       "<table border=\"1\" class=\"dataframe\">\n",
       "  <thead>\n",
       "    <tr style=\"text-align: right;\">\n",
       "      <th></th>\n",
       "      <th>游记ID</th>\n",
       "      <th>正文</th>\n",
       "      <th>entity</th>\n",
       "    </tr>\n",
       "  </thead>\n",
       "  <tbody>\n",
       "    <tr>\n",
       "      <th>11</th>\n",
       "      <td>1292</td>\n",
       "      <td>观山清景昼森森”的清幽、古朴的自然韵味，诱人于千里之外。四时八节，游人不绝。\\n革命历史博物...</td>\n",
       "      <td>革命历史博物馆 怡心亭 枫梢树 石耸台 宝光塔 宝光塔公园 宝光公园 高州市人民政府 广东省...</td>\n",
       "    </tr>\n",
       "    <tr>\n",
       "      <th>12</th>\n",
       "      <td>1293</td>\n",
       "      <td>走马：路上\\n爷爷是一个很重男轻女的传统 广东 人，但在看到自己曾孙还没有的情况下，就开始叨...</td>\n",
       "      <td>茂名界 鹅凰嶂</td>\n",
       "    </tr>\n",
       "    <tr>\n",
       "      <th>13</th>\n",
       "      <td>1293</td>\n",
       "      <td>宾馆的价钱，经济酒店的配置，真的便靓正\\n叫高美酒店，新开没多久，老板娘很热情，虽然地方有点...</td>\n",
       "      <td>高美酒店</td>\n",
       "    </tr>\n",
       "  </tbody>\n",
       "</table>\n",
       "</div>"
      ],
      "text/plain": [
       "    游记ID                                                 正文  \\\n",
       "11  1292  观山清景昼森森”的清幽、古朴的自然韵味，诱人于千里之外。四时八节，游人不绝。\\n革命历史博物...   \n",
       "12  1293  走马：路上\\n爷爷是一个很重男轻女的传统 广东 人，但在看到自己曾孙还没有的情况下，就开始叨...   \n",
       "13  1293  宾馆的价钱，经济酒店的配置，真的便靓正\\n叫高美酒店，新开没多久，老板娘很热情，虽然地方有点...   \n",
       "\n",
       "                                               entity  \n",
       "11  革命历史博物馆 怡心亭 枫梢树 石耸台 宝光塔 宝光塔公园 宝光公园 高州市人民政府 广东省...  \n",
       "12                                           茂名界 鹅凰嶂   \n",
       "13                                              高美酒店   "
      ]
     },
     "execution_count": 147,
     "metadata": {},
     "output_type": "execute_result"
    }
   ],
   "source": [
    "ans_youji"
   ]
  },
  {
   "cell_type": "code",
   "execution_count": 136,
   "id": "418a5196",
   "metadata": {},
   "outputs": [],
   "source": [
    "#评论类型\n",
    "comment_type=\"游记ID\"\n",
    "comment_name=\"正文\"\n",
    "\n",
    "#ans_youji2=cate_entity(newdf_youji.iloc[20:40,:],comment_type,comment_name)\n",
    "#ans_youji3=cate_entity(newdf_youji.iloc[40:,:],comment_type,comment_name)"
   ]
  },
  {
   "cell_type": "code",
   "execution_count": 107,
   "id": "41dcc2ba",
   "metadata": {},
   "outputs": [
    {
     "data": {
      "text/plain": [
       "59"
      ]
     },
     "execution_count": 107,
     "metadata": {},
     "output_type": "execute_result"
    }
   ],
   "source": [
    "len(newdf_youji)"
   ]
  },
  {
   "cell_type": "code",
   "execution_count": 75,
   "id": "955c621a",
   "metadata": {},
   "outputs": [
    {
     "name": "stderr",
     "output_type": "stream",
     "text": [
      "C:\\Users\\k\\anaconda3\\envs\\pyto\\lib\\site-packages\\ipykernel_launcher.py:3: SettingWithCopyWarning: \n",
      "A value is trying to be set on a copy of a slice from a DataFrame.\n",
      "Try using .loc[row_indexer,col_indexer] = value instead\n",
      "\n",
      "See the caveats in the documentation: https://pandas.pydata.org/pandas-docs/stable/user_guide/indexing.html#returning-a-view-versus-a-copy\n",
      "  This is separate from the ipykernel package so we can avoid doing imports until\n",
      "C:\\Users\\k\\anaconda3\\envs\\pyto\\lib\\site-packages\\pandas\\core\\indexing.py:1817: SettingWithCopyWarning: \n",
      "A value is trying to be set on a copy of a slice from a DataFrame.\n",
      "Try using .loc[row_indexer,col_indexer] = value instead\n",
      "\n",
      "See the caveats in the documentation: https://pandas.pydata.org/pandas-docs/stable/user_guide/indexing.html#returning-a-view-versus-a-copy\n",
      "  self._setitem_single_column(loc, value, pi)\n"
     ]
    }
   ],
   "source": [
    "ans_youji=cate_entity(newdf_youji,comment_type,comment_name)"
   ]
  },
  {
   "cell_type": "code",
   "execution_count": 148,
   "id": "62fd9ab5",
   "metadata": {},
   "outputs": [],
   "source": [
    "ans_df=pd.DataFrame(data=None,columns=['语料ID','语料','产品名称'])\n",
    "ans_df\n",
    "for com_id in ans_youji['游记ID']:\n",
    "    for entity in ((ans_youji[ans_youji['游记ID']==com_id]).iloc[0,2]).split(\" \"):\n",
    "        if entity!=\"\":\n",
    "            corpus=(ans_youji[ans_youji['游记ID']==com_id]).iloc[0,1]#语料\n",
    "            ans_df=ans_df.append({'语料ID':('游记ID-'+str(com_id)),'语料':corpus,'产品名称':entity},ignore_index=True)"
   ]
  },
  {
   "cell_type": "code",
   "execution_count": 149,
   "id": "e3b06d47",
   "metadata": {},
   "outputs": [
    {
     "data": {
      "text/html": [
       "<div>\n",
       "<style scoped>\n",
       "    .dataframe tbody tr th:only-of-type {\n",
       "        vertical-align: middle;\n",
       "    }\n",
       "\n",
       "    .dataframe tbody tr th {\n",
       "        vertical-align: top;\n",
       "    }\n",
       "\n",
       "    .dataframe thead th {\n",
       "        text-align: right;\n",
       "    }\n",
       "</style>\n",
       "<table border=\"1\" class=\"dataframe\">\n",
       "  <thead>\n",
       "    <tr style=\"text-align: right;\">\n",
       "      <th></th>\n",
       "      <th>语料ID</th>\n",
       "      <th>语料</th>\n",
       "      <th>产品名称</th>\n",
       "    </tr>\n",
       "  </thead>\n",
       "  <tbody>\n",
       "    <tr>\n",
       "      <th>0</th>\n",
       "      <td>游记ID-1292</td>\n",
       "      <td>观山清景昼森森”的清幽、古朴的自然韵味，诱人于千里之外。四时八节，游人不绝。\\n革命历史博物...</td>\n",
       "      <td>革命历史博物馆</td>\n",
       "    </tr>\n",
       "    <tr>\n",
       "      <th>1</th>\n",
       "      <td>游记ID-1292</td>\n",
       "      <td>观山清景昼森森”的清幽、古朴的自然韵味，诱人于千里之外。四时八节，游人不绝。\\n革命历史博物...</td>\n",
       "      <td>怡心亭</td>\n",
       "    </tr>\n",
       "    <tr>\n",
       "      <th>2</th>\n",
       "      <td>游记ID-1292</td>\n",
       "      <td>观山清景昼森森”的清幽、古朴的自然韵味，诱人于千里之外。四时八节，游人不绝。\\n革命历史博物...</td>\n",
       "      <td>枫梢树</td>\n",
       "    </tr>\n",
       "    <tr>\n",
       "      <th>3</th>\n",
       "      <td>游记ID-1292</td>\n",
       "      <td>观山清景昼森森”的清幽、古朴的自然韵味，诱人于千里之外。四时八节，游人不绝。\\n革命历史博物...</td>\n",
       "      <td>石耸台</td>\n",
       "    </tr>\n",
       "    <tr>\n",
       "      <th>4</th>\n",
       "      <td>游记ID-1292</td>\n",
       "      <td>观山清景昼森森”的清幽、古朴的自然韵味，诱人于千里之外。四时八节，游人不绝。\\n革命历史博物...</td>\n",
       "      <td>宝光塔</td>\n",
       "    </tr>\n",
       "    <tr>\n",
       "      <th>5</th>\n",
       "      <td>游记ID-1292</td>\n",
       "      <td>观山清景昼森森”的清幽、古朴的自然韵味，诱人于千里之外。四时八节，游人不绝。\\n革命历史博物...</td>\n",
       "      <td>宝光塔公园</td>\n",
       "    </tr>\n",
       "    <tr>\n",
       "      <th>6</th>\n",
       "      <td>游记ID-1292</td>\n",
       "      <td>观山清景昼森森”的清幽、古朴的自然韵味，诱人于千里之外。四时八节，游人不绝。\\n革命历史博物...</td>\n",
       "      <td>宝光公园</td>\n",
       "    </tr>\n",
       "    <tr>\n",
       "      <th>7</th>\n",
       "      <td>游记ID-1292</td>\n",
       "      <td>观山清景昼森森”的清幽、古朴的自然韵味，诱人于千里之外。四时八节，游人不绝。\\n革命历史博物...</td>\n",
       "      <td>高州市人民政府</td>\n",
       "    </tr>\n",
       "    <tr>\n",
       "      <th>8</th>\n",
       "      <td>游记ID-1292</td>\n",
       "      <td>观山清景昼森森”的清幽、古朴的自然韵味，诱人于千里之外。四时八节，游人不绝。\\n革命历史博物...</td>\n",
       "      <td>广东省文管会</td>\n",
       "    </tr>\n",
       "    <tr>\n",
       "      <th>9</th>\n",
       "      <td>游记ID-1292</td>\n",
       "      <td>观山清景昼森森”的清幽、古朴的自然韵味，诱人于千里之外。四时八节，游人不绝。\\n革命历史博物...</td>\n",
       "      <td>周家宅</td>\n",
       "    </tr>\n",
       "    <tr>\n",
       "      <th>10</th>\n",
       "      <td>游记ID-1292</td>\n",
       "      <td>观山清景昼森森”的清幽、古朴的自然韵味，诱人于千里之外。四时八节，游人不绝。\\n革命历史博物...</td>\n",
       "      <td>发祥寺</td>\n",
       "    </tr>\n",
       "    <tr>\n",
       "      <th>11</th>\n",
       "      <td>游记ID-1293</td>\n",
       "      <td>走马：路上\\n爷爷是一个很重男轻女的传统 广东 人，但在看到自己曾孙还没有的情况下，就开始叨...</td>\n",
       "      <td>茂名界</td>\n",
       "    </tr>\n",
       "    <tr>\n",
       "      <th>12</th>\n",
       "      <td>游记ID-1293</td>\n",
       "      <td>走马：路上\\n爷爷是一个很重男轻女的传统 广东 人，但在看到自己曾孙还没有的情况下，就开始叨...</td>\n",
       "      <td>鹅凰嶂</td>\n",
       "    </tr>\n",
       "    <tr>\n",
       "      <th>13</th>\n",
       "      <td>游记ID-1293</td>\n",
       "      <td>走马：路上\\n爷爷是一个很重男轻女的传统 广东 人，但在看到自己曾孙还没有的情况下，就开始叨...</td>\n",
       "      <td>茂名界</td>\n",
       "    </tr>\n",
       "    <tr>\n",
       "      <th>14</th>\n",
       "      <td>游记ID-1293</td>\n",
       "      <td>走马：路上\\n爷爷是一个很重男轻女的传统 广东 人，但在看到自己曾孙还没有的情况下，就开始叨...</td>\n",
       "      <td>鹅凰嶂</td>\n",
       "    </tr>\n",
       "  </tbody>\n",
       "</table>\n",
       "</div>"
      ],
      "text/plain": [
       "         语料ID                                                 语料     产品名称\n",
       "0   游记ID-1292  观山清景昼森森”的清幽、古朴的自然韵味，诱人于千里之外。四时八节，游人不绝。\\n革命历史博物...  革命历史博物馆\n",
       "1   游记ID-1292  观山清景昼森森”的清幽、古朴的自然韵味，诱人于千里之外。四时八节，游人不绝。\\n革命历史博物...      怡心亭\n",
       "2   游记ID-1292  观山清景昼森森”的清幽、古朴的自然韵味，诱人于千里之外。四时八节，游人不绝。\\n革命历史博物...      枫梢树\n",
       "3   游记ID-1292  观山清景昼森森”的清幽、古朴的自然韵味，诱人于千里之外。四时八节，游人不绝。\\n革命历史博物...      石耸台\n",
       "4   游记ID-1292  观山清景昼森森”的清幽、古朴的自然韵味，诱人于千里之外。四时八节，游人不绝。\\n革命历史博物...      宝光塔\n",
       "5   游记ID-1292  观山清景昼森森”的清幽、古朴的自然韵味，诱人于千里之外。四时八节，游人不绝。\\n革命历史博物...    宝光塔公园\n",
       "6   游记ID-1292  观山清景昼森森”的清幽、古朴的自然韵味，诱人于千里之外。四时八节，游人不绝。\\n革命历史博物...     宝光公园\n",
       "7   游记ID-1292  观山清景昼森森”的清幽、古朴的自然韵味，诱人于千里之外。四时八节，游人不绝。\\n革命历史博物...  高州市人民政府\n",
       "8   游记ID-1292  观山清景昼森森”的清幽、古朴的自然韵味，诱人于千里之外。四时八节，游人不绝。\\n革命历史博物...   广东省文管会\n",
       "9   游记ID-1292  观山清景昼森森”的清幽、古朴的自然韵味，诱人于千里之外。四时八节，游人不绝。\\n革命历史博物...      周家宅\n",
       "10  游记ID-1292  观山清景昼森森”的清幽、古朴的自然韵味，诱人于千里之外。四时八节，游人不绝。\\n革命历史博物...      发祥寺\n",
       "11  游记ID-1293  走马：路上\\n爷爷是一个很重男轻女的传统 广东 人，但在看到自己曾孙还没有的情况下，就开始叨...      茂名界\n",
       "12  游记ID-1293  走马：路上\\n爷爷是一个很重男轻女的传统 广东 人，但在看到自己曾孙还没有的情况下，就开始叨...      鹅凰嶂\n",
       "13  游记ID-1293  走马：路上\\n爷爷是一个很重男轻女的传统 广东 人，但在看到自己曾孙还没有的情况下，就开始叨...      茂名界\n",
       "14  游记ID-1293  走马：路上\\n爷爷是一个很重男轻女的传统 广东 人，但在看到自己曾孙还没有的情况下，就开始叨...      鹅凰嶂"
      ]
     },
     "execution_count": 149,
     "metadata": {},
     "output_type": "execute_result"
    }
   ],
   "source": [
    "ans_df"
   ]
  },
  {
   "cell_type": "code",
   "execution_count": 150,
   "id": "73134e3d",
   "metadata": {},
   "outputs": [],
   "source": [
    "ans_df.to_excel('2021longyouji.xlsx',index=False)"
   ]
  },
  {
   "cell_type": "code",
   "execution_count": 113,
   "id": "6406cb48",
   "metadata": {},
   "outputs": [
    {
     "data": {
      "text/plain": [
       "2020"
      ]
     },
     "execution_count": 113,
     "metadata": {},
     "output_type": "execute_result"
    }
   ],
   "source": [
    "year"
   ]
  },
  {
   "cell_type": "code",
   "execution_count": 43,
   "id": "1ffc0433",
   "metadata": {},
   "outputs": [],
   "source": [
    "with pd.ExcelWriter('2020-2021task2-1.xlsx') as writer:\n",
    "    #df2018.to_excel(writer, sheet_name='2018', index=False)\n",
    "    #df2019.to_excel(writer, sheet_name='2019', index=False)\n",
    "    df2020.to_excel(writer, sheet_name='2020', index=False)\n",
    "    #df2021.to_excel(writer, sheet_name='2021', index=False)"
   ]
  },
  {
   "cell_type": "code",
   "execution_count": 22,
   "id": "d24ea5eb",
   "metadata": {},
   "outputs": [],
   "source": [
    "df2020=ans_df"
   ]
  },
  {
   "cell_type": "code",
   "execution_count": 41,
   "id": "9f418768",
   "metadata": {},
   "outputs": [],
   "source": [
    "df2021=ans_df"
   ]
  },
  {
   "cell_type": "code",
   "execution_count": 269,
   "id": "11a97d67",
   "metadata": {},
   "outputs": [
    {
     "data": {
      "text/html": [
       "<div>\n",
       "<style scoped>\n",
       "    .dataframe tbody tr th:only-of-type {\n",
       "        vertical-align: middle;\n",
       "    }\n",
       "\n",
       "    .dataframe tbody tr th {\n",
       "        vertical-align: top;\n",
       "    }\n",
       "\n",
       "    .dataframe thead th {\n",
       "        text-align: right;\n",
       "    }\n",
       "</style>\n",
       "<table border=\"1\" class=\"dataframe\">\n",
       "  <thead>\n",
       "    <tr style=\"text-align: right;\">\n",
       "      <th></th>\n",
       "      <th>语料ID</th>\n",
       "      <th>语料</th>\n",
       "      <th>产品名称</th>\n",
       "    </tr>\n",
       "  </thead>\n",
       "  <tbody>\n",
       "    <tr>\n",
       "      <th>0</th>\n",
       "      <td>餐饮评论ID-1039</td>\n",
       "      <td>嫩滑不腻的奶油，香甜的芒果蛋糕，很赞！多次回购！儿子很喜欢这家奥尔良西多士，很……好吃！全五...</td>\n",
       "      <td>奥尔良西多士</td>\n",
       "    </tr>\n",
       "    <tr>\n",
       "      <th>1</th>\n",
       "      <td>餐饮评论ID-1063</td>\n",
       "      <td>环境很棒，东南亚风情比得上泰国游的星级酒店。套餐分量比较足，而且不粗糙，口味还算不错，若是追...</td>\n",
       "      <td>东南亚</td>\n",
       "    </tr>\n",
       "    <tr>\n",
       "      <th>2</th>\n",
       "      <td>餐饮评论ID-1144</td>\n",
       "      <td>味道一般，态度超差，老板和老板娘不亲善，很沟屎，不知是不是家财万贯？惨过我欠他十万九千七咁个...</td>\n",
       "      <td>十万九千七</td>\n",
       "    </tr>\n",
       "    <tr>\n",
       "      <th>3</th>\n",
       "      <td>餐饮评论ID-1156</td>\n",
       "      <td>第一次去  点的清江鱼  超级小的鱼  也就一斤多   再去了内脏就没什么了   我吃了三块...</td>\n",
       "      <td>清江鱼</td>\n",
       "    </tr>\n",
       "    <tr>\n",
       "      <th>4</th>\n",
       "      <td>餐饮评论ID-1157</td>\n",
       "      <td>味道非常好，7个人去吃烤鱼，开了三个锅，哈哈，美团美团非常实惠，服务态度也非常好，表示下次还...</td>\n",
       "      <td>美团美团</td>\n",
       "    </tr>\n",
       "    <tr>\n",
       "      <th>...</th>\n",
       "      <td>...</td>\n",
       "      <td>...</td>\n",
       "      <td>...</td>\n",
       "    </tr>\n",
       "    <tr>\n",
       "      <th>1723</th>\n",
       "      <td>景区评论ID-1525</td>\n",
       "      <td>赤坎 大通街是湛江最古老的商业街之一，它与广东省湛江最古老的街道古老渡街相接，是见证赤坎区古...</td>\n",
       "      <td>赤坎大通街</td>\n",
       "    </tr>\n",
       "    <tr>\n",
       "      <th>1724</th>\n",
       "      <td>景区评论ID-1525</td>\n",
       "      <td>赤坎 大通街是湛江最古老的商业街之一，它与广东省湛江最古老的街道古老渡街相接，是见证赤坎区古...</td>\n",
       "      <td>老渡街</td>\n",
       "    </tr>\n",
       "    <tr>\n",
       "      <th>1725</th>\n",
       "      <td>景区评论ID-1526</td>\n",
       "      <td>不错的地方，喜欢海，第一次感受大海零距离，2004虎门，那也只是珠江口与海交接的地方、200...</td>\n",
       "      <td>珠江口</td>\n",
       "    </tr>\n",
       "    <tr>\n",
       "      <th>1726</th>\n",
       "      <td>景区评论ID-1526</td>\n",
       "      <td>不错的地方，喜欢海，第一次感受大海零距离，2004虎门，那也只是珠江口与海交接的地方、200...</td>\n",
       "      <td>深圳湾</td>\n",
       "    </tr>\n",
       "    <tr>\n",
       "      <th>1727</th>\n",
       "      <td>景区评论ID-1536</td>\n",
       "      <td>瀛洲公园占地面积60亩，始建于上世纪九十年代末，公园内绿草如茵，弯曲的小径将公园分为几个小区...</td>\n",
       "      <td>瀛洲公园</td>\n",
       "    </tr>\n",
       "  </tbody>\n",
       "</table>\n",
       "<p>1728 rows × 3 columns</p>\n",
       "</div>"
      ],
      "text/plain": [
       "             语料ID                                                 语料    产品名称\n",
       "0     餐饮评论ID-1039  嫩滑不腻的奶油，香甜的芒果蛋糕，很赞！多次回购！儿子很喜欢这家奥尔良西多士，很……好吃！全五...  奥尔良西多士\n",
       "1     餐饮评论ID-1063  环境很棒，东南亚风情比得上泰国游的星级酒店。套餐分量比较足，而且不粗糙，口味还算不错，若是追...     东南亚\n",
       "2     餐饮评论ID-1144  味道一般，态度超差，老板和老板娘不亲善，很沟屎，不知是不是家财万贯？惨过我欠他十万九千七咁个...   十万九千七\n",
       "3     餐饮评论ID-1156  第一次去  点的清江鱼  超级小的鱼  也就一斤多   再去了内脏就没什么了   我吃了三块...     清江鱼\n",
       "4     餐饮评论ID-1157  味道非常好，7个人去吃烤鱼，开了三个锅，哈哈，美团美团非常实惠，服务态度也非常好，表示下次还...    美团美团\n",
       "...           ...                                                ...     ...\n",
       "1723  景区评论ID-1525  赤坎 大通街是湛江最古老的商业街之一，它与广东省湛江最古老的街道古老渡街相接，是见证赤坎区古...   赤坎大通街\n",
       "1724  景区评论ID-1525  赤坎 大通街是湛江最古老的商业街之一，它与广东省湛江最古老的街道古老渡街相接，是见证赤坎区古...     老渡街\n",
       "1725  景区评论ID-1526  不错的地方，喜欢海，第一次感受大海零距离，2004虎门，那也只是珠江口与海交接的地方、200...     珠江口\n",
       "1726  景区评论ID-1526  不错的地方，喜欢海，第一次感受大海零距离，2004虎门，那也只是珠江口与海交接的地方、200...     深圳湾\n",
       "1727  景区评论ID-1536  瀛洲公园占地面积60亩，始建于上世纪九十年代末，公园内绿草如茵，弯曲的小径将公园分为几个小区...    瀛洲公园\n",
       "\n",
       "[1728 rows x 3 columns]"
      ]
     },
     "execution_count": 269,
     "metadata": {},
     "output_type": "execute_result"
    }
   ],
   "source": [
    "df2018"
   ]
  },
  {
   "cell_type": "code",
   "execution_count": 270,
   "id": "674cb5d7",
   "metadata": {},
   "outputs": [
    {
     "data": {
      "text/html": [
       "<div>\n",
       "<style scoped>\n",
       "    .dataframe tbody tr th:only-of-type {\n",
       "        vertical-align: middle;\n",
       "    }\n",
       "\n",
       "    .dataframe tbody tr th {\n",
       "        vertical-align: top;\n",
       "    }\n",
       "\n",
       "    .dataframe thead th {\n",
       "        text-align: right;\n",
       "    }\n",
       "</style>\n",
       "<table border=\"1\" class=\"dataframe\">\n",
       "  <thead>\n",
       "    <tr style=\"text-align: right;\">\n",
       "      <th></th>\n",
       "      <th>语料ID</th>\n",
       "      <th>语料</th>\n",
       "      <th>产品名称</th>\n",
       "    </tr>\n",
       "  </thead>\n",
       "  <tbody>\n",
       "    <tr>\n",
       "      <th>0</th>\n",
       "      <td>餐饮评论ID-1791</td>\n",
       "      <td>果之度的蛋糕榴莲味很浓郁，比较好吃就是个头小了点</td>\n",
       "      <td>果之度</td>\n",
       "    </tr>\n",
       "    <tr>\n",
       "      <th>1</th>\n",
       "      <td>餐饮评论ID-1814</td>\n",
       "      <td>老板系位，帅气男人，而且服务好，微信，给你一百个赞，榴莲睇没什么，奶油多，但食又几香榴莲味，...</td>\n",
       "      <td>果之度</td>\n",
       "    </tr>\n",
       "    <tr>\n",
       "      <th>2</th>\n",
       "      <td>餐饮评论ID-1862</td>\n",
       "      <td>奶油不错，就是原价买会比较贵，如果没有美团估计也不会买了 #咸奶油奥利奥可可薄脆盒子蛋糕#</td>\n",
       "      <td>奥可可</td>\n",
       "    </tr>\n",
       "    <tr>\n",
       "      <th>3</th>\n",
       "      <td>餐饮评论ID-1867</td>\n",
       "      <td>经常来。还对来说还是不错的。两三天来吃一次。比华莱士的好吃多了</td>\n",
       "      <td>华莱士</td>\n",
       "    </tr>\n",
       "    <tr>\n",
       "      <th>4</th>\n",
       "      <td>餐饮评论ID-1869</td>\n",
       "      <td>超级超级好吃。    分量足。  味道正。 环境好。卫生干净。    水东超级好的一间餐厅。...</td>\n",
       "      <td>安格斯</td>\n",
       "    </tr>\n",
       "    <tr>\n",
       "      <th>...</th>\n",
       "      <td>...</td>\n",
       "      <td>...</td>\n",
       "      <td>...</td>\n",
       "    </tr>\n",
       "    <tr>\n",
       "      <th>1388</th>\n",
       "      <td>景区评论ID-1525</td>\n",
       "      <td>赤坎 大通街是湛江最古老的商业街之一，它与广东省湛江最古老的街道古老渡街相接，是见证赤坎区古...</td>\n",
       "      <td>赤坎大通街</td>\n",
       "    </tr>\n",
       "    <tr>\n",
       "      <th>1389</th>\n",
       "      <td>景区评论ID-1525</td>\n",
       "      <td>赤坎 大通街是湛江最古老的商业街之一，它与广东省湛江最古老的街道古老渡街相接，是见证赤坎区古...</td>\n",
       "      <td>老渡街</td>\n",
       "    </tr>\n",
       "    <tr>\n",
       "      <th>1390</th>\n",
       "      <td>景区评论ID-1526</td>\n",
       "      <td>不错的地方，喜欢海，第一次感受大海零距离，2004虎门，那也只是珠江口与海交接的地方、200...</td>\n",
       "      <td>珠江口</td>\n",
       "    </tr>\n",
       "    <tr>\n",
       "      <th>1391</th>\n",
       "      <td>景区评论ID-1526</td>\n",
       "      <td>不错的地方，喜欢海，第一次感受大海零距离，2004虎门，那也只是珠江口与海交接的地方、200...</td>\n",
       "      <td>深圳湾</td>\n",
       "    </tr>\n",
       "    <tr>\n",
       "      <th>1392</th>\n",
       "      <td>景区评论ID-1536</td>\n",
       "      <td>瀛洲公园占地面积60亩，始建于上世纪九十年代末，公园内绿草如茵，弯曲的小径将公园分为几个小区...</td>\n",
       "      <td>瀛洲公园</td>\n",
       "    </tr>\n",
       "  </tbody>\n",
       "</table>\n",
       "<p>1393 rows × 3 columns</p>\n",
       "</div>"
      ],
      "text/plain": [
       "             语料ID                                                 语料   产品名称\n",
       "0     餐饮评论ID-1791                           果之度的蛋糕榴莲味很浓郁，比较好吃就是个头小了点    果之度\n",
       "1     餐饮评论ID-1814  老板系位，帅气男人，而且服务好，微信，给你一百个赞，榴莲睇没什么，奶油多，但食又几香榴莲味，...    果之度\n",
       "2     餐饮评论ID-1862      奶油不错，就是原价买会比较贵，如果没有美团估计也不会买了 #咸奶油奥利奥可可薄脆盒子蛋糕#    奥可可\n",
       "3     餐饮评论ID-1867                    经常来。还对来说还是不错的。两三天来吃一次。比华莱士的好吃多了    华莱士\n",
       "4     餐饮评论ID-1869  超级超级好吃。    分量足。  味道正。 环境好。卫生干净。    水东超级好的一间餐厅。...    安格斯\n",
       "...           ...                                                ...    ...\n",
       "1388  景区评论ID-1525  赤坎 大通街是湛江最古老的商业街之一，它与广东省湛江最古老的街道古老渡街相接，是见证赤坎区古...  赤坎大通街\n",
       "1389  景区评论ID-1525  赤坎 大通街是湛江最古老的商业街之一，它与广东省湛江最古老的街道古老渡街相接，是见证赤坎区古...    老渡街\n",
       "1390  景区评论ID-1526  不错的地方，喜欢海，第一次感受大海零距离，2004虎门，那也只是珠江口与海交接的地方、200...    珠江口\n",
       "1391  景区评论ID-1526  不错的地方，喜欢海，第一次感受大海零距离，2004虎门，那也只是珠江口与海交接的地方、200...    深圳湾\n",
       "1392  景区评论ID-1536  瀛洲公园占地面积60亩，始建于上世纪九十年代末，公园内绿草如茵，弯曲的小径将公园分为几个小区...   瀛洲公园\n",
       "\n",
       "[1393 rows x 3 columns]"
      ]
     },
     "execution_count": 270,
     "metadata": {},
     "output_type": "execute_result"
    }
   ],
   "source": [
    "df2019"
   ]
  },
  {
   "cell_type": "code",
   "execution_count": 174,
   "id": "6809ab77",
   "metadata": {},
   "outputs": [
    {
     "data": {
      "text/plain": [
       "{'STS_ELECTRA_BASE_ZH': 'https://file.hankcs.com/hanlp/sts/sts_electra_base_zh_20210530_200109.zip'}"
      ]
     },
     "execution_count": 174,
     "metadata": {},
     "output_type": "execute_result"
    }
   ],
   "source": [
    "import hanlp\n",
    "hanlp.pretrained.sts.ALL # 语种见名称最后一个字段或相应语料库"
   ]
  },
  {
   "cell_type": "code",
   "execution_count": 147,
   "id": "4a2d15ad",
   "metadata": {},
   "outputs": [
    {
     "name": "stderr",
     "output_type": "stream",
     "text": [
      "Downloading https://file.hankcs.com/hanlp/sts/sts_electra_base_zh_20210530_200109.zip to C:\\Users\\k\\AppData\\Roaming\\hanlp\\sts/sts_electra_base_zh_20210530_200109.zip\n",
      "100% 362.0 MiB 397.2 KiB/s ETA:  0 s [=============================================================]\n",
      "Decompressing C:\\Users\\k\\AppData\\Roaming\\hanlp\\sts/sts_electra_base_zh_20210530_200109.zip to C:\\Users\\k\\AppData\\Roaming\\hanlp\\sts\n",
      "Downloading https://file.hankcs.com/hanlp/transformers/electra_zh_base_20210706_125233.zip to C:\\Users\\k\\AppData\\Roaming\\hanlp\\transformers/electra_zh_base_20210706_125233.zip\n",
      "100%  41.2 KiB  41.2 KiB/s ETA:  0 s [=============================================================]\n",
      "Decompressing C:\\Users\\k\\AppData\\Roaming\\hanlp\\transformers/electra_zh_base_20210706_125233.zip to C:\\Users\\k\\AppData\\Roaming\\hanlp\\transformers\n",
      "                                             \r"
     ]
    }
   ],
   "source": [
    "sts = hanlp.load(hanlp.pretrained.sts.STS_ELECTRA_BASE_ZH)"
   ]
  },
  {
   "cell_type": "code",
   "execution_count": 177,
   "id": "5d6f261f",
   "metadata": {},
   "outputs": [
    {
     "data": {
      "text/plain": [
       "[0.9797298908233643, 0.0, 0.003458738327026367]"
      ]
     },
     "execution_count": 177,
     "metadata": {},
     "output_type": "execute_result"
    }
   ],
   "source": [
    "sts([\n",
    "    ('水东湾', '水中东湾'),\n",
    "    ('无线路由器怎么无线上网', '无线上网卡和无线路由器怎么用'),\n",
    "    ('北京到上海的动车票', '上海到北京的动车票'),\n",
    "])"
   ]
  },
  {
   "cell_type": "code",
   "execution_count": null,
   "id": "3785a14d",
   "metadata": {},
   "outputs": [],
   "source": []
  }
 ],
 "metadata": {
  "kernelspec": {
   "display_name": "Python (pytorch)",
   "language": "python",
   "name": "pyto"
  },
  "language_info": {
   "codemirror_mode": {
    "name": "ipython",
    "version": 3
   },
   "file_extension": ".py",
   "mimetype": "text/x-python",
   "name": "python",
   "nbconvert_exporter": "python",
   "pygments_lexer": "ipython3",
   "version": "3.7.10"
  }
 },
 "nbformat": 4,
 "nbformat_minor": 5
}
