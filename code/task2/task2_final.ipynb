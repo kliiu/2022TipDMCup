{
 "cells": [
  {
   "cell_type": "code",
   "execution_count": 216,
   "id": "749183ec",
   "metadata": {},
   "outputs": [],
   "source": [
    "import pandas"
   ]
  },
  {
   "cell_type": "code",
   "execution_count": 6,
   "id": "4f6e949f",
   "metadata": {},
   "outputs": [],
   "source": [
    "import pandas as pd\n",
    "import numpy as np\n",
    "import re \n",
    "import sys\n",
    "path1=\"../ans/task2/other/2018-2019task2-1.xlsx\"\n",
    "path2=\"../ans/task2/other/2020-2021task2-1.xlsx\""
   ]
  },
  {
   "cell_type": "code",
   "execution_count": 7,
   "id": "49d811da",
   "metadata": {},
   "outputs": [],
   "source": [
    "df2018= pd.read_excel(path1,sheet_name=0)\n",
    "df2019= pd.read_excel(path1,sheet_name=1)\n",
    "df2020= pd.read_excel(path2,sheet_name=0)\n",
    "df2021= pd.read_excel(path2,sheet_name=1)"
   ]
  },
  {
   "cell_type": "code",
   "execution_count": 8,
   "id": "7f539e85",
   "metadata": {
    "scrolled": true
   },
   "outputs": [],
   "source": [
    "df1=pd.concat([df2018,df2019],ignore_index=True)\n",
    "df2=pd.concat([df2020,df2021],ignore_index=True)\n",
    "df=pd.concat([df1,df2],ignore_index=True)"
   ]
  },
  {
   "cell_type": "code",
   "execution_count": 9,
   "id": "af1eda68",
   "metadata": {
    "scrolled": true
   },
   "outputs": [],
   "source": [
    "df.drop_duplicates(keep='first',inplace=True,ignore_index=True)\n",
    "df.drop('语料',axis=1,inplace=True)"
   ]
  },
  {
   "cell_type": "code",
   "execution_count": 10,
   "id": "233a09ac",
   "metadata": {},
   "outputs": [],
   "source": [
    "df.dropna(inplace=True)"
   ]
  },
  {
   "cell_type": "code",
   "execution_count": 11,
   "id": "59bc5023",
   "metadata": {},
   "outputs": [],
   "source": [
    "tempdf=(df.sort_values(by='产品名称'))\n",
    "tempdf.drop_duplicates(keep='first',inplace=True,ignore_index=True)"
   ]
  },
  {
   "cell_type": "code",
   "execution_count": 145,
   "id": "62e14748",
   "metadata": {},
   "outputs": [],
   "source": [
    "tempdf.to_excel('temp1.xlsx',index=False)"
   ]
  },
  {
   "cell_type": "code",
   "execution_count": 13,
   "id": "f5f63b38",
   "metadata": {},
   "outputs": [
    {
     "data": {
      "text/html": [
       "<div>\n",
       "<style scoped>\n",
       "    .dataframe tbody tr th:only-of-type {\n",
       "        vertical-align: middle;\n",
       "    }\n",
       "\n",
       "    .dataframe tbody tr th {\n",
       "        vertical-align: top;\n",
       "    }\n",
       "\n",
       "    .dataframe thead th {\n",
       "        text-align: right;\n",
       "    }\n",
       "</style>\n",
       "<table border=\"1\" class=\"dataframe\">\n",
       "  <thead>\n",
       "    <tr style=\"text-align: right;\">\n",
       "      <th></th>\n",
       "      <th>语料ID</th>\n",
       "      <th>产品名称</th>\n",
       "    </tr>\n",
       "  </thead>\n",
       "  <tbody>\n",
       "    <tr>\n",
       "      <th>0</th>\n",
       "      <td>景区评论ID-2169</td>\n",
       "      <td>—渔港公园</td>\n",
       "    </tr>\n",
       "    <tr>\n",
       "      <th>1</th>\n",
       "      <td>餐饮评论ID-6607</td>\n",
       "      <td>一两次</td>\n",
       "    </tr>\n",
       "    <tr>\n",
       "      <th>2</th>\n",
       "      <td>景区评论ID-2000</td>\n",
       "      <td>一二百元</td>\n",
       "    </tr>\n",
       "    <tr>\n",
       "      <th>3</th>\n",
       "      <td>游记ID-1104</td>\n",
       "      <td>一分钟元</td>\n",
       "    </tr>\n",
       "    <tr>\n",
       "      <th>4</th>\n",
       "      <td>景区评论ID-1088</td>\n",
       "      <td>一分钱</td>\n",
       "    </tr>\n",
       "    <tr>\n",
       "      <th>...</th>\n",
       "      <td>...</td>\n",
       "      <td>...</td>\n",
       "    </tr>\n",
       "    <tr>\n",
       "      <th>2944</th>\n",
       "      <td>游记ID-1025</td>\n",
       "      <td>龙舟赛</td>\n",
       "    </tr>\n",
       "    <tr>\n",
       "      <th>2945</th>\n",
       "      <td>游记ID-1031</td>\n",
       "      <td>龙舟赛</td>\n",
       "    </tr>\n",
       "    <tr>\n",
       "      <th>2946</th>\n",
       "      <td>游记ID-1009</td>\n",
       "      <td>龙虎山</td>\n",
       "    </tr>\n",
       "    <tr>\n",
       "      <th>2947</th>\n",
       "      <td>游记ID-1083</td>\n",
       "      <td>龙虾馆</td>\n",
       "    </tr>\n",
       "    <tr>\n",
       "      <th>2948</th>\n",
       "      <td>游记ID-1031</td>\n",
       "      <td>龟心园</td>\n",
       "    </tr>\n",
       "  </tbody>\n",
       "</table>\n",
       "<p>2949 rows × 2 columns</p>\n",
       "</div>"
      ],
      "text/plain": [
       "             语料ID   产品名称\n",
       "0     景区评论ID-2169  —渔港公园\n",
       "1     餐饮评论ID-6607    一两次\n",
       "2     景区评论ID-2000   一二百元\n",
       "3       游记ID-1104   一分钟元\n",
       "4     景区评论ID-1088    一分钱\n",
       "...           ...    ...\n",
       "2944    游记ID-1025    龙舟赛\n",
       "2945    游记ID-1031    龙舟赛\n",
       "2946    游记ID-1009    龙虎山\n",
       "2947    游记ID-1083    龙虾馆\n",
       "2948    游记ID-1031    龟心园\n",
       "\n",
       "[2949 rows x 2 columns]"
      ]
     },
     "execution_count": 13,
     "metadata": {},
     "output_type": "execute_result"
    }
   ],
   "source": [
    "tempdf"
   ]
  },
  {
   "cell_type": "code",
   "execution_count": 64,
   "id": "d4ba06a9",
   "metadata": {},
   "outputs": [
    {
     "data": {
      "text/html": [
       "<div>\n",
       "<style scoped>\n",
       "    .dataframe tbody tr th:only-of-type {\n",
       "        vertical-align: middle;\n",
       "    }\n",
       "\n",
       "    .dataframe tbody tr th {\n",
       "        vertical-align: top;\n",
       "    }\n",
       "\n",
       "    .dataframe thead th {\n",
       "        text-align: right;\n",
       "    }\n",
       "</style>\n",
       "<table border=\"1\" class=\"dataframe\">\n",
       "  <thead>\n",
       "    <tr style=\"text-align: right;\">\n",
       "      <th></th>\n",
       "      <th>产品名称</th>\n",
       "    </tr>\n",
       "  </thead>\n",
       "  <tbody>\n",
       "    <tr>\n",
       "      <th>0</th>\n",
       "      <td>奥尔良西多士</td>\n",
       "    </tr>\n",
       "    <tr>\n",
       "      <th>1</th>\n",
       "      <td>东南亚</td>\n",
       "    </tr>\n",
       "    <tr>\n",
       "      <th>2</th>\n",
       "      <td>十万九千七</td>\n",
       "    </tr>\n",
       "    <tr>\n",
       "      <th>3</th>\n",
       "      <td>清江鱼</td>\n",
       "    </tr>\n",
       "    <tr>\n",
       "      <th>4</th>\n",
       "      <td>美团美团</td>\n",
       "    </tr>\n",
       "    <tr>\n",
       "      <th>...</th>\n",
       "      <td>...</td>\n",
       "    </tr>\n",
       "    <tr>\n",
       "      <th>1651</th>\n",
       "      <td>高州市人民政府</td>\n",
       "    </tr>\n",
       "    <tr>\n",
       "      <th>1652</th>\n",
       "      <td>广东省文管会</td>\n",
       "    </tr>\n",
       "    <tr>\n",
       "      <th>1653</th>\n",
       "      <td>周家宅</td>\n",
       "    </tr>\n",
       "    <tr>\n",
       "      <th>1654</th>\n",
       "      <td>发祥寺</td>\n",
       "    </tr>\n",
       "    <tr>\n",
       "      <th>1655</th>\n",
       "      <td>茂名界</td>\n",
       "    </tr>\n",
       "  </tbody>\n",
       "</table>\n",
       "<p>1656 rows × 1 columns</p>\n",
       "</div>"
      ],
      "text/plain": [
       "         产品名称\n",
       "0      奥尔良西多士\n",
       "1         东南亚\n",
       "2       十万九千七\n",
       "3         清江鱼\n",
       "4        美团美团\n",
       "...       ...\n",
       "1651  高州市人民政府\n",
       "1652   广东省文管会\n",
       "1653      周家宅\n",
       "1654      发祥寺\n",
       "1655      茂名界\n",
       "\n",
       "[1656 rows x 1 columns]"
      ]
     },
     "execution_count": 64,
     "metadata": {},
     "output_type": "execute_result"
    }
   ],
   "source": [
    "temp=df.drop('语料ID',axis=1)\n",
    "temp.drop_duplicates(inplace=True,ignore_index=True)\n",
    "temp"
   ]
  },
  {
   "cell_type": "code",
   "execution_count": 14,
   "id": "44724641",
   "metadata": {},
   "outputs": [],
   "source": [
    "df= pd.read_excel('temp1.xlsx')"
   ]
  },
  {
   "cell_type": "code",
   "execution_count": 18,
   "id": "33ed4381",
   "metadata": {},
   "outputs": [
    {
     "data": {
      "text/html": [
       "<div>\n",
       "<style scoped>\n",
       "    .dataframe tbody tr th:only-of-type {\n",
       "        vertical-align: middle;\n",
       "    }\n",
       "\n",
       "    .dataframe tbody tr th {\n",
       "        vertical-align: top;\n",
       "    }\n",
       "\n",
       "    .dataframe thead th {\n",
       "        text-align: right;\n",
       "    }\n",
       "</style>\n",
       "<table border=\"1\" class=\"dataframe\">\n",
       "  <thead>\n",
       "    <tr style=\"text-align: right;\">\n",
       "      <th></th>\n",
       "      <th>语料ID</th>\n",
       "      <th>产品名称</th>\n",
       "    </tr>\n",
       "  </thead>\n",
       "  <tbody>\n",
       "    <tr>\n",
       "      <th>0</th>\n",
       "      <td>游记ID-1018</td>\n",
       "      <td>七星谷元洲</td>\n",
       "    </tr>\n",
       "    <tr>\n",
       "      <th>1</th>\n",
       "      <td>游记ID-1014</td>\n",
       "      <td>七星谷元洲</td>\n",
       "    </tr>\n",
       "    <tr>\n",
       "      <th>2</th>\n",
       "      <td>游记ID-1019</td>\n",
       "      <td>七星谷元洲</td>\n",
       "    </tr>\n",
       "    <tr>\n",
       "      <th>3</th>\n",
       "      <td>景区评论ID-2125</td>\n",
       "      <td>七海旋律餐厅</td>\n",
       "    </tr>\n",
       "    <tr>\n",
       "      <th>4</th>\n",
       "      <td>游记ID-1018</td>\n",
       "      <td>万亩沉香林为绿色生态区被</td>\n",
       "    </tr>\n",
       "    <tr>\n",
       "      <th>...</th>\n",
       "      <td>...</td>\n",
       "      <td>...</td>\n",
       "    </tr>\n",
       "    <tr>\n",
       "      <th>2803</th>\n",
       "      <td>游记ID-1025</td>\n",
       "      <td>龙舟赛</td>\n",
       "    </tr>\n",
       "    <tr>\n",
       "      <th>2804</th>\n",
       "      <td>游记ID-1031</td>\n",
       "      <td>龙舟赛</td>\n",
       "    </tr>\n",
       "    <tr>\n",
       "      <th>2805</th>\n",
       "      <td>游记ID-1009</td>\n",
       "      <td>龙虎山</td>\n",
       "    </tr>\n",
       "    <tr>\n",
       "      <th>2806</th>\n",
       "      <td>游记ID-1083</td>\n",
       "      <td>龙虾馆</td>\n",
       "    </tr>\n",
       "    <tr>\n",
       "      <th>2807</th>\n",
       "      <td>游记ID-1031</td>\n",
       "      <td>龟心园</td>\n",
       "    </tr>\n",
       "  </tbody>\n",
       "</table>\n",
       "<p>2808 rows × 2 columns</p>\n",
       "</div>"
      ],
      "text/plain": [
       "             语料ID          产品名称\n",
       "0       游记ID-1018         七星谷元洲\n",
       "1       游记ID-1014         七星谷元洲\n",
       "2       游记ID-1019         七星谷元洲\n",
       "3     景区评论ID-2125        七海旋律餐厅\n",
       "4       游记ID-1018  万亩沉香林为绿色生态区被\n",
       "...           ...           ...\n",
       "2803    游记ID-1025           龙舟赛\n",
       "2804    游记ID-1031           龙舟赛\n",
       "2805    游记ID-1009           龙虎山\n",
       "2806    游记ID-1083           龙虾馆\n",
       "2807    游记ID-1031           龟心园\n",
       "\n",
       "[2808 rows x 2 columns]"
      ]
     },
     "execution_count": 18,
     "metadata": {},
     "output_type": "execute_result"
    }
   ],
   "source": [
    "df"
   ]
  },
  {
   "cell_type": "code",
   "execution_count": 30,
   "id": "9bb4d23e",
   "metadata": {},
   "outputs": [],
   "source": [
    "prod_id={}\n",
    "for name in df['产品名称']:\n",
    "    prod_id[name]=df[df['产品名称']==name].index.tolist()[0]+1"
   ]
  },
  {
   "cell_type": "code",
   "execution_count": 33,
   "id": "84a25ea9",
   "metadata": {},
   "outputs": [
    {
     "data": {
      "text/plain": [
       "1741"
      ]
     },
     "execution_count": 33,
     "metadata": {},
     "output_type": "execute_result"
    }
   ],
   "source": [
    "len(set(prod_id))"
   ]
  },
  {
   "cell_type": "code",
   "execution_count": 31,
   "id": "c571db17",
   "metadata": {},
   "outputs": [
    {
     "data": {
      "text/plain": [
       "1741"
      ]
     },
     "execution_count": 31,
     "metadata": {},
     "output_type": "execute_result"
    }
   ],
   "source": [
    "len(prod_id)"
   ]
  },
  {
   "cell_type": "code",
   "execution_count": 19,
   "id": "827afa9f",
   "metadata": {},
   "outputs": [],
   "source": [
    "df['产品ID']=0\n",
    "newdf=df.drop('产品名称',axis=1)\n",
    "newdf['产品名称']=df['产品名称']\n",
    "df=newdf"
   ]
  },
  {
   "cell_type": "code",
   "execution_count": 20,
   "id": "cb52719a",
   "metadata": {},
   "outputs": [],
   "source": [
    "#提取 已有名称\n",
    "path=\"../dataset/2020-2021茂名（含自媒体）.xlsx\"\n",
    "#酒店\n",
    "df_hotel= pd.read_excel(path,sheet_name=0)\n",
    "newdf_hotel=pd.read_excel(path,sheet_name=0)\n",
    "newdf_hotel.drop({\"城市\",\"评论日期\",\"入住房型\"},axis=1,inplace=True)\n",
    "#景区\n",
    "df_jingqu= pd.read_excel(path,sheet_name=1)\n",
    "newdf_jingqu=pd.read_excel(path,sheet_name=1)\n",
    "newdf_jingqu.drop({\"城市\"},axis=1,inplace=True)\n",
    "#餐饮评论\n",
    "df_eat= pd.read_excel(path,sheet_name=3)\n",
    "newdf_eat=pd.read_excel(path,sheet_name=3)\n",
    "newdf_eat.drop({\"城市\",\"标题\"},axis=1,inplace=True)"
   ]
  },
  {
   "cell_type": "code",
   "execution_count": 21,
   "id": "646df64a",
   "metadata": {},
   "outputs": [],
   "source": [
    "#对于除游记以外的名称要去除括号内的内容\n",
    "def rm_kuohao(s):\n",
    "    #str = u\"你（你）在[在]干{干}嘛【嘛】\"\n",
    "    result = re.sub(u\"\\\\（.*?）|\\\\{.*?}|\\\\[.*?]|\\\\【.*?】\", \"\", s.encode('utf-8').decode())#全角括号\n",
    "    result = re.sub(u\"\\\\(.*?\\\\)|\\\\{.*?}|\\\\[.*?]\", \"\", result)#半角括号\n",
    "    return result\n",
    "#繁体转换为简体\n",
    "from langconv import *\n",
    " \n",
    "# 繁体转简体\n",
    "def TraditionalToSimplified(content):\n",
    "    line = Converter(\"zh-hans\").convert(content)\n",
    "    return line"
   ]
  },
  {
   "cell_type": "code",
   "execution_count": 22,
   "id": "7772b1c8",
   "metadata": {},
   "outputs": [],
   "source": [
    "df_list={'酒店名称':newdf_hotel,'景区名称':newdf_jingqu,'餐饮名称':newdf_eat}\n",
    "for key in df_list:\n",
    "    for row in range(len(df_list[key])):\n",
    "        (df_list[key]).iloc[row,1]=rm_kuohao((df_list[key]).iloc[row,1])\n",
    "        (df_list[key]).iloc[row,1]=TraditionalToSimplified((df_list[key]).iloc[row,1])"
   ]
  },
  {
   "cell_type": "code",
   "execution_count": 23,
   "id": "de6d0adc",
   "metadata": {},
   "outputs": [
    {
     "data": {
      "text/html": [
       "<div>\n",
       "<style scoped>\n",
       "    .dataframe tbody tr th:only-of-type {\n",
       "        vertical-align: middle;\n",
       "    }\n",
       "\n",
       "    .dataframe tbody tr th {\n",
       "        vertical-align: top;\n",
       "    }\n",
       "\n",
       "    .dataframe thead th {\n",
       "        text-align: right;\n",
       "    }\n",
       "</style>\n",
       "<table border=\"1\" class=\"dataframe\">\n",
       "  <thead>\n",
       "    <tr style=\"text-align: right;\">\n",
       "      <th></th>\n",
       "      <th>酒店评论ID</th>\n",
       "      <th>酒店名称</th>\n",
       "      <th>评论内容</th>\n",
       "      <th>入住日期</th>\n",
       "    </tr>\n",
       "  </thead>\n",
       "  <tbody>\n",
       "    <tr>\n",
       "      <th>0</th>\n",
       "      <td>1395</td>\n",
       "      <td>茂名海豚酒店</td>\n",
       "      <td>一如既往的好，性价比高</td>\n",
       "      <td>2020-01-01</td>\n",
       "    </tr>\n",
       "    <tr>\n",
       "      <th>1</th>\n",
       "      <td>1396</td>\n",
       "      <td>城市便捷酒店</td>\n",
       "      <td>环境很好，离油校很近，宵夜方便！</td>\n",
       "      <td>2020-01-02</td>\n",
       "    </tr>\n",
       "    <tr>\n",
       "      <th>2</th>\n",
       "      <td>1397</td>\n",
       "      <td>维也纳国际酒店</td>\n",
       "      <td>酒店很干净，不收取押金是对客人的尊重，赞一个。</td>\n",
       "      <td>2020-01-03</td>\n",
       "    </tr>\n",
       "    <tr>\n",
       "      <th>3</th>\n",
       "      <td>1398</td>\n",
       "      <td>茂名熹龙国际大酒店</td>\n",
       "      <td>五星好评，越来越喜欢熹龙了。酒店我住了有10年了，近一两年来每次入住，即使我没定有早餐的，也...</td>\n",
       "      <td>2020-01-04</td>\n",
       "    </tr>\n",
       "    <tr>\n",
       "      <th>4</th>\n",
       "      <td>1399</td>\n",
       "      <td>茂名万达广场雅斯特国际酒店</td>\n",
       "      <td>环境舒适，实木家具，宽敞明亮</td>\n",
       "      <td>2020-01-05</td>\n",
       "    </tr>\n",
       "    <tr>\n",
       "      <th>...</th>\n",
       "      <td>...</td>\n",
       "      <td>...</td>\n",
       "      <td>...</td>\n",
       "      <td>...</td>\n",
       "    </tr>\n",
       "    <tr>\n",
       "      <th>694</th>\n",
       "      <td>2089</td>\n",
       "      <td>凯里亚德酒店</td>\n",
       "      <td>酒店位置和环境都不错，而且非常新！</td>\n",
       "      <td>2021-11-27</td>\n",
       "    </tr>\n",
       "    <tr>\n",
       "      <th>695</th>\n",
       "      <td>2090</td>\n",
       "      <td>丽枫酒店</td>\n",
       "      <td>kf 服务：客房服务态度好 很认真</td>\n",
       "      <td>2021-11-28</td>\n",
       "    </tr>\n",
       "    <tr>\n",
       "      <th>696</th>\n",
       "      <td>2091</td>\n",
       "      <td>茂名观海楼假日酒店</td>\n",
       "      <td>酒店有专属停车场，停车方便，房间挺大，风景挺好，下楼就是沙滩</td>\n",
       "      <td>2021-11-29</td>\n",
       "    </tr>\n",
       "    <tr>\n",
       "      <th>697</th>\n",
       "      <td>2092</td>\n",
       "      <td>茂名御景国际大酒店</td>\n",
       "      <td>酒店在电白来说比较高档环境还可以 出行方便  交通：方便停车免费停车挺好的 免费健身房可以游...</td>\n",
       "      <td>2021-11-30</td>\n",
       "    </tr>\n",
       "    <tr>\n",
       "      <th>698</th>\n",
       "      <td>2093</td>\n",
       "      <td>哈曼酒店</td>\n",
       "      <td>服务卫生都挺好的3333下次过来再来</td>\n",
       "      <td>2021-12-01</td>\n",
       "    </tr>\n",
       "  </tbody>\n",
       "</table>\n",
       "<p>699 rows × 4 columns</p>\n",
       "</div>"
      ],
      "text/plain": [
       "     酒店评论ID           酒店名称                                               评论内容  \\\n",
       "0      1395         茂名海豚酒店                                        一如既往的好，性价比高   \n",
       "1      1396         城市便捷酒店                                   环境很好，离油校很近，宵夜方便！   \n",
       "2      1397        维也纳国际酒店                            酒店很干净，不收取押金是对客人的尊重，赞一个。   \n",
       "3      1398      茂名熹龙国际大酒店  五星好评，越来越喜欢熹龙了。酒店我住了有10年了，近一两年来每次入住，即使我没定有早餐的，也...   \n",
       "4      1399  茂名万达广场雅斯特国际酒店                                     环境舒适，实木家具，宽敞明亮   \n",
       "..      ...            ...                                                ...   \n",
       "694    2089         凯里亚德酒店                                  酒店位置和环境都不错，而且非常新！   \n",
       "695    2090           丽枫酒店                                  kf 服务：客房服务态度好 很认真   \n",
       "696    2091      茂名观海楼假日酒店                     酒店有专属停车场，停车方便，房间挺大，风景挺好，下楼就是沙滩   \n",
       "697    2092      茂名御景国际大酒店  酒店在电白来说比较高档环境还可以 出行方便  交通：方便停车免费停车挺好的 免费健身房可以游...   \n",
       "698    2093           哈曼酒店                                 服务卫生都挺好的3333下次过来再来   \n",
       "\n",
       "           入住日期  \n",
       "0    2020-01-01  \n",
       "1    2020-01-02  \n",
       "2    2020-01-03  \n",
       "3    2020-01-04  \n",
       "4    2020-01-05  \n",
       "..          ...  \n",
       "694  2021-11-27  \n",
       "695  2021-11-28  \n",
       "696  2021-11-29  \n",
       "697  2021-11-30  \n",
       "698  2021-12-01  \n",
       "\n",
       "[699 rows x 4 columns]"
      ]
     },
     "execution_count": 23,
     "metadata": {},
     "output_type": "execute_result"
    }
   ],
   "source": [
    "newdf_hotel"
   ]
  },
  {
   "cell_type": "code",
   "execution_count": 24,
   "id": "47122e96",
   "metadata": {},
   "outputs": [
    {
     "ename": "NameError",
     "evalue": "name 'tempans' is not defined",
     "output_type": "error",
     "traceback": [
      "\u001b[1;31m---------------------------------------------------------------------------\u001b[0m",
      "\u001b[1;31mNameError\u001b[0m                                 Traceback (most recent call last)",
      "\u001b[1;32m~\\AppData\\Local\\Temp/ipykernel_25180/2510176072.py\u001b[0m in \u001b[0;36m<module>\u001b[1;34m\u001b[0m\n\u001b[0;32m      1\u001b[0m \u001b[1;32mfor\u001b[0m \u001b[0mcom_id\u001b[0m \u001b[1;32min\u001b[0m \u001b[0mnewdf_eat\u001b[0m\u001b[1;33m[\u001b[0m\u001b[1;34m'餐饮评论ID'\u001b[0m\u001b[1;33m]\u001b[0m\u001b[1;33m:\u001b[0m\u001b[1;33m\u001b[0m\u001b[1;33m\u001b[0m\u001b[0m\n\u001b[0;32m      2\u001b[0m     \u001b[0mentity\u001b[0m\u001b[1;33m=\u001b[0m\u001b[0mnewdf_eat\u001b[0m\u001b[1;33m[\u001b[0m\u001b[0mnewdf_eat\u001b[0m\u001b[1;33m[\u001b[0m\u001b[1;34m'餐饮评论ID'\u001b[0m\u001b[1;33m]\u001b[0m\u001b[1;33m==\u001b[0m\u001b[0mcom_id\u001b[0m\u001b[1;33m]\u001b[0m\u001b[1;33m.\u001b[0m\u001b[0miloc\u001b[0m\u001b[1;33m[\u001b[0m\u001b[1;36m0\u001b[0m\u001b[1;33m,\u001b[0m\u001b[1;36m1\u001b[0m\u001b[1;33m]\u001b[0m\u001b[1;33m\u001b[0m\u001b[1;33m\u001b[0m\u001b[0m\n\u001b[1;32m----> 3\u001b[1;33m     \u001b[0mtempans\u001b[0m\u001b[1;33m=\u001b[0m\u001b[0mtempans\u001b[0m\u001b[1;33m.\u001b[0m\u001b[0mappend\u001b[0m\u001b[1;33m(\u001b[0m\u001b[1;33m{\u001b[0m\u001b[1;34m'语料ID'\u001b[0m\u001b[1;33m:\u001b[0m\u001b[1;33m(\u001b[0m\u001b[1;34m'餐饮评论ID-'\u001b[0m\u001b[1;33m+\u001b[0m\u001b[0mstr\u001b[0m\u001b[1;33m(\u001b[0m\u001b[0mcom_id\u001b[0m\u001b[1;33m)\u001b[0m\u001b[1;33m)\u001b[0m\u001b[1;33m,\u001b[0m\u001b[1;34m'产品名称'\u001b[0m\u001b[1;33m:\u001b[0m\u001b[0mentity\u001b[0m\u001b[1;33m}\u001b[0m\u001b[1;33m,\u001b[0m\u001b[0mignore_index\u001b[0m\u001b[1;33m=\u001b[0m\u001b[1;32mTrue\u001b[0m\u001b[1;33m)\u001b[0m\u001b[1;33m\u001b[0m\u001b[1;33m\u001b[0m\u001b[0m\n\u001b[0m",
      "\u001b[1;31mNameError\u001b[0m: name 'tempans' is not defined"
     ]
    }
   ],
   "source": [
    "tempans=pd.DataFrame()\n",
    "for com_id in newdf_eat['餐饮评论ID']:\n",
    "    entity=newdf_eat[newdf_eat['餐饮评论ID']==com_id].iloc[0,1]\n",
    "    tempans=tempans.append({'语料ID':('餐饮评论ID-'+str(com_id)),'产品名称':entity},ignore_index=True)"
   ]
  },
  {
   "cell_type": "code",
   "execution_count": null,
   "id": "4c9317e8",
   "metadata": {},
   "outputs": [],
   "source": []
  },
  {
   "cell_type": "code",
   "execution_count": 195,
   "id": "50514b51",
   "metadata": {},
   "outputs": [],
   "source": [
    "tempans.drop_duplicates(inplace=True)"
   ]
  },
  {
   "cell_type": "code",
   "execution_count": 196,
   "id": "6e78f767",
   "metadata": {},
   "outputs": [],
   "source": [
    "df=tempans.copy()"
   ]
  },
  {
   "cell_type": "code",
   "execution_count": 202,
   "id": "de736aeb",
   "metadata": {},
   "outputs": [],
   "source": [
    "df['产品ID']=0"
   ]
  },
  {
   "cell_type": "code",
   "execution_count": 205,
   "id": "5087dac1",
   "metadata": {},
   "outputs": [],
   "source": [
    "for row in range(len(df)):\n",
    "    df.iloc[row,1]=prod_id[df.iloc[row,2]]"
   ]
  },
  {
   "cell_type": "code",
   "execution_count": 206,
   "id": "991f22d8",
   "metadata": {},
   "outputs": [],
   "source": [
    "df.sort_values(by='产品ID',ignore_index=True,inplace=True)"
   ]
  },
  {
   "cell_type": "code",
   "execution_count": 213,
   "id": "87f05487",
   "metadata": {},
   "outputs": [],
   "source": [
    "df.to_csv('../ans/task2/result2-1.csv',index=False,encoding='utf_8_sig')"
   ]
  },
  {
   "cell_type": "code",
   "execution_count": 179,
   "id": "5ccd16c1",
   "metadata": {},
   "outputs": [],
   "source": [
    "tempans=df.copy()"
   ]
  },
  {
   "cell_type": "code",
   "execution_count": 27,
   "id": "579671e0",
   "metadata": {},
   "outputs": [],
   "source": [
    "df=pd.read_csv('../ans/task2/result2-1.csv')"
   ]
  },
  {
   "cell_type": "code",
   "execution_count": 29,
   "id": "7b774614",
   "metadata": {},
   "outputs": [],
   "source": [
    "df['产品ID']=0"
   ]
  },
  {
   "cell_type": "code",
   "execution_count": 34,
   "id": "6572fa64",
   "metadata": {},
   "outputs": [
    {
     "data": {
      "text/html": [
       "<div>\n",
       "<style scoped>\n",
       "    .dataframe tbody tr th:only-of-type {\n",
       "        vertical-align: middle;\n",
       "    }\n",
       "\n",
       "    .dataframe tbody tr th {\n",
       "        vertical-align: top;\n",
       "    }\n",
       "\n",
       "    .dataframe thead th {\n",
       "        text-align: right;\n",
       "    }\n",
       "</style>\n",
       "<table border=\"1\" class=\"dataframe\">\n",
       "  <thead>\n",
       "    <tr style=\"text-align: right;\">\n",
       "      <th></th>\n",
       "      <th>语料ID</th>\n",
       "      <th>产品ID</th>\n",
       "      <th>产品名称</th>\n",
       "    </tr>\n",
       "  </thead>\n",
       "  <tbody>\n",
       "    <tr>\n",
       "      <th>0</th>\n",
       "      <td>餐饮评论ID-1039</td>\n",
       "      <td>0</td>\n",
       "      <td>奥尔良西多士</td>\n",
       "    </tr>\n",
       "    <tr>\n",
       "      <th>1</th>\n",
       "      <td>餐饮评论ID-1144</td>\n",
       "      <td>0</td>\n",
       "      <td>十万九千七</td>\n",
       "    </tr>\n",
       "    <tr>\n",
       "      <th>2</th>\n",
       "      <td>餐饮评论ID-1156</td>\n",
       "      <td>0</td>\n",
       "      <td>清江鱼</td>\n",
       "    </tr>\n",
       "    <tr>\n",
       "      <th>3</th>\n",
       "      <td>餐饮评论ID-1157</td>\n",
       "      <td>0</td>\n",
       "      <td>美团美团</td>\n",
       "    </tr>\n",
       "    <tr>\n",
       "      <th>4</th>\n",
       "      <td>餐饮评论ID-1173</td>\n",
       "      <td>0</td>\n",
       "      <td>旺角亭</td>\n",
       "    </tr>\n",
       "    <tr>\n",
       "      <th>...</th>\n",
       "      <td>...</td>\n",
       "      <td>...</td>\n",
       "      <td>...</td>\n",
       "    </tr>\n",
       "    <tr>\n",
       "      <th>9828</th>\n",
       "      <td>游记ID-1293</td>\n",
       "      <td>0</td>\n",
       "      <td>茂名界</td>\n",
       "    </tr>\n",
       "    <tr>\n",
       "      <th>9829</th>\n",
       "      <td>游记ID-1293</td>\n",
       "      <td>0</td>\n",
       "      <td>鹅凰嶂</td>\n",
       "    </tr>\n",
       "    <tr>\n",
       "      <th>9830</th>\n",
       "      <td>游记ID-1294</td>\n",
       "      <td>0</td>\n",
       "      <td>仙人洞</td>\n",
       "    </tr>\n",
       "    <tr>\n",
       "      <th>9831</th>\n",
       "      <td>游记ID-1294</td>\n",
       "      <td>0</td>\n",
       "      <td>仙人阁山庄</td>\n",
       "    </tr>\n",
       "    <tr>\n",
       "      <th>9832</th>\n",
       "      <td>游记ID-1294</td>\n",
       "      <td>0</td>\n",
       "      <td>耀新村</td>\n",
       "    </tr>\n",
       "  </tbody>\n",
       "</table>\n",
       "<p>9833 rows × 3 columns</p>\n",
       "</div>"
      ],
      "text/plain": [
       "             语料ID  产品ID    产品名称\n",
       "0     餐饮评论ID-1039     0  奥尔良西多士\n",
       "1     餐饮评论ID-1144     0   十万九千七\n",
       "2     餐饮评论ID-1156     0     清江鱼\n",
       "3     餐饮评论ID-1157     0    美团美团\n",
       "4     餐饮评论ID-1173     0     旺角亭\n",
       "...           ...   ...     ...\n",
       "9828    游记ID-1293     0     茂名界\n",
       "9829    游记ID-1293     0     鹅凰嶂\n",
       "9830    游记ID-1294     0     仙人洞\n",
       "9831    游记ID-1294     0   仙人阁山庄\n",
       "9832    游记ID-1294     0     耀新村\n",
       "\n",
       "[9833 rows x 3 columns]"
      ]
     },
     "execution_count": 34,
     "metadata": {},
     "output_type": "execute_result"
    }
   ],
   "source": [
    "df"
   ]
  },
  {
   "cell_type": "code",
   "execution_count": null,
   "id": "469bcc49",
   "metadata": {},
   "outputs": [],
   "source": []
  }
 ],
 "metadata": {
  "kernelspec": {
   "display_name": "Python (pytorch)",
   "language": "python",
   "name": "pyto"
  },
  "language_info": {
   "codemirror_mode": {
    "name": "ipython",
    "version": 3
   },
   "file_extension": ".py",
   "mimetype": "text/x-python",
   "name": "python",
   "nbconvert_exporter": "python",
   "pygments_lexer": "ipython3",
   "version": "3.7.10"
  }
 },
 "nbformat": 4,
 "nbformat_minor": 5
}
