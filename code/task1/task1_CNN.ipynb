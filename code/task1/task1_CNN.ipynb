{
 "cells": [
  {
   "cell_type": "code",
   "execution_count": 4,
   "id": "9d391ea5",
   "metadata": {},
   "outputs": [],
   "source": [
    "# -*- coding:utf-8 -*-\n",
    "import csv\n",
    "import numpy as np\n",
    "import jieba\n",
    "import jieba.analyse\n",
    "import jieba.posseg as pseg\n",
    "from sklearn import feature_extraction  \n",
    "from sklearn.feature_extraction.text import TfidfVectorizer\n",
    "from sklearn.feature_extraction.text import CountVectorizer\n",
    "from sklearn.feature_extraction.text import TfidfTransformer\n",
    "from sklearn.model_selection import train_test_split\n",
    "from sklearn.metrics import classification_report\n",
    "from tensorflow.keras import models\n",
    "from tensorflow.keras import layers\n",
    "from tensorflow.keras import Input\n",
    "from gensim.models import word2vec\n",
    "from keras.preprocessing.text import Tokenizer\n",
    "from keras.utils.np_utils import to_categorical\n",
    "from keras.preprocessing.sequence import pad_sequences\n",
    "from keras.models import Model\n",
    "from keras.models import Sequential\n",
    "from keras.models import load_model\n",
    "from keras.layers import Flatten, Dense, Dropout, Conv1D, MaxPool1D, Embedding"
   ]
  },
  {
   "cell_type": "code",
   "execution_count": 6,
   "id": "6719727a",
   "metadata": {},
   "outputs": [
    {
     "ename": "FileNotFoundError",
     "evalue": "[Errno 2] No such file or directory: 'data.csv'",
     "output_type": "error",
     "traceback": [
      "\u001b[1;31m---------------------------------------------------------------------------\u001b[0m",
      "\u001b[1;31mFileNotFoundError\u001b[0m                         Traceback (most recent call last)",
      "\u001b[1;32m~\\AppData\\Local\\Temp/ipykernel_8600/4226789401.py\u001b[0m in \u001b[0;36m<module>\u001b[1;34m\u001b[0m\n\u001b[0;32m     18\u001b[0m \u001b[1;31m# 中文分词\u001b[0m\u001b[1;33m\u001b[0m\u001b[1;33m\u001b[0m\u001b[1;33m\u001b[0m\u001b[0m\n\u001b[0;32m     19\u001b[0m \u001b[0mMat\u001b[0m \u001b[1;33m=\u001b[0m \u001b[1;33m[\u001b[0m\u001b[1;33m]\u001b[0m\u001b[1;33m\u001b[0m\u001b[1;33m\u001b[0m\u001b[0m\n\u001b[1;32m---> 20\u001b[1;33m \u001b[1;32mwith\u001b[0m \u001b[0mopen\u001b[0m\u001b[1;33m(\u001b[0m\u001b[0mfile\u001b[0m\u001b[1;33m,\u001b[0m \u001b[1;34m\"r\"\u001b[0m\u001b[1;33m,\u001b[0m \u001b[0mencoding\u001b[0m\u001b[1;33m=\u001b[0m\u001b[1;34m\"UTF-8\"\u001b[0m\u001b[1;33m)\u001b[0m \u001b[1;32mas\u001b[0m \u001b[0mf\u001b[0m\u001b[1;33m:\u001b[0m\u001b[1;33m\u001b[0m\u001b[1;33m\u001b[0m\u001b[0m\n\u001b[0m\u001b[0;32m     21\u001b[0m     \u001b[1;31m# 使用csv.DictReader读取文件中的信息\u001b[0m\u001b[1;33m\u001b[0m\u001b[1;33m\u001b[0m\u001b[1;33m\u001b[0m\u001b[0m\n\u001b[0;32m     22\u001b[0m     \u001b[0mreader\u001b[0m \u001b[1;33m=\u001b[0m \u001b[0mcsv\u001b[0m\u001b[1;33m.\u001b[0m\u001b[0mDictReader\u001b[0m\u001b[1;33m(\u001b[0m\u001b[0mf\u001b[0m\u001b[1;33m)\u001b[0m\u001b[1;33m\u001b[0m\u001b[1;33m\u001b[0m\u001b[0m\n",
      "\u001b[1;31mFileNotFoundError\u001b[0m: [Errno 2] No such file or directory: 'data.csv'"
     ]
    }
   ],
   "source": [
    "#----------------------------------第一步 数据预处理--------------------------------\n",
    "file = \"data.csv\"\n",
    "\n",
    "# 获取停用词\n",
    "def stopwordslist(): #加载停用词表\n",
    "    stopwords = [line.strip() for line in open('stop_words.txt', encoding=\"UTF-8\").readlines()]\n",
    "    return stopwords\n",
    "\n",
    "# 去除停用词\n",
    "def deleteStop(sentence):\n",
    "    stopwords = stopwordslist()\n",
    "    outstr = \"\"\n",
    "    for i in sentence:\n",
    "        # print(i)\n",
    "        if i not in stopwords and i!=\"\\n\":\n",
    "            outstr += i\n",
    "    return outstr\n",
    "# 中文分词\n",
    "Mat = []\n",
    "with open(file, \"r\", encoding=\"UTF-8\") as f:\n",
    "    # 使用csv.DictReader读取文件中的信息\n",
    "    reader = csv.DictReader(f)\n",
    "    labels = []\n",
    "    contents = []\n",
    "    for row in reader:\n",
    "        # 数据元素获取\n",
    "        if row['label'] == '好评':\n",
    "            res = 0\n",
    "        else:\n",
    "            res = 1\n",
    "        labels.append(res)\n",
    "\n",
    "        # 中文分词\n",
    "        content = row['content']\n",
    "        #print(content)\n",
    "        seglist = jieba.cut(content,cut_all=False)  #精确模式\n",
    "        #print(seglist)\n",
    "        \n",
    "        # 去停用词\n",
    "        stc = deleteStop(seglist) #注意此时句子无空格\n",
    "        # 空格拼接\n",
    "        seg_list = jieba.cut(stc,cut_all=False)\n",
    "        output = ' '.join(list(seg_list))\n",
    "        #print(output)\n",
    "        contents.append(output)\n",
    "        \n",
    "        # 词性标注\n",
    "        res = pseg.cut(stc)\n",
    "        seten = []\n",
    "        for word,flag in res:\n",
    "            if flag not in ['nr','ns','nt','mz','m','f','ul','l','r','t']:\n",
    "                #print(word,flag)\n",
    "                seten.append(word)\n",
    "        Mat.append(seten)\n",
    "\n",
    "print(labels[:5])\n",
    "print(contents[:5])\n",
    "print(Mat[:5])"
   ]
  },
  {
   "cell_type": "code",
   "execution_count": null,
   "id": "542df5b3",
   "metadata": {},
   "outputs": [],
   "source": []
  }
 ],
 "metadata": {
  "kernelspec": {
   "display_name": "Python (tensorflow)",
   "language": "python",
   "name": "tf"
  },
  "language_info": {
   "codemirror_mode": {
    "name": "ipython",
    "version": 3
   },
   "file_extension": ".py",
   "mimetype": "text/x-python",
   "name": "python",
   "nbconvert_exporter": "python",
   "pygments_lexer": "ipython3",
   "version": "3.7.10"
  }
 },
 "nbformat": 4,
 "nbformat_minor": 5
}
